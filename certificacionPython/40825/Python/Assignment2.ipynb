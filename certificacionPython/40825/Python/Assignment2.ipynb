{
 "cells": [
  {
   "cell_type": "markdown",
   "metadata": {},
   "source": [
    "## Resolver con IF:"
   ]
  },
  {
   "cell_type": "markdown",
   "metadata": {},
   "source": [
    "21. Escribir un programa que determine si el año es bisiesto. Un año es bisiesto si es\n",
    "múltiplo de 4 (1988), excepto los múltiplos de 100 que no son bisiestos salvo que a su\n",
    "vez también sean múltiplos de 400 (1800no es bisiesto, 2000 sí)."
   ]
  },
  {
   "cell_type": "code",
   "execution_count": 8,
   "metadata": {},
   "outputs": [
    {
     "name": "stdout",
     "output_type": "stream",
     "text": [
      "Ingrese el año: 2000\n",
      "2000 es un año bisiesto\n"
     ]
    }
   ],
   "source": [
    "anio = int(input(\"Ingrese el año: \"))\n",
    "if (anio%4 == 0 and not anio%100 == 0) or anio%400 == 0:\n",
    "    print(f\"{anio} es un año bisiesto\")\n",
    "else:\n",
    "    print(f\"{anio} no es un año bisiesto\")"
   ]
  },
  {
   "cell_type": "markdown",
   "metadata": {},
   "source": [
    "22. Dado los valores de A, B, C que son los coeficientes de la ecuación de segundo grado,\n",
    "hallar sus raíces reales, desplegar los resultados."
   ]
  },
  {
   "cell_type": "code",
   "execution_count": 11,
   "metadata": {},
   "outputs": [
    {
     "name": "stdout",
     "output_type": "stream",
     "text": [
      "Introduce el coeficiente para a: 2\n",
      "Introduce el coeficiente para b: 9\n",
      "Introduce el coeficiente para c: 1\n",
      "La ecuacion tiene dos soluciones reales:  -0.11  y  -4.39\n"
     ]
    }
   ],
   "source": [
    "import math\n",
    "a = float(input(\"Introduce el coeficiente para a: \"))\n",
    "b = float(input(\"Introduce el coeficiente para b: \"))\n",
    "c = float(input(\"Introduce el coeficiente para c: \"))\n",
    "discriminante = b**2 - (4*a*c)\n",
    "if discriminante == 0:\n",
    "    sol = (-b) /(2*a)\n",
    "    print(\"La ecuacion tiene una unica solucion : \", \"{0:.2f}\".format(sol))\n",
    "elif discriminante >=0:\n",
    "    # 2 soluciones reales distintas\n",
    "    sol = (-b + math.sqrt(discriminante))/(2*a)\n",
    "    sol1 = (-b - math.sqrt(discriminante))/(2*a)\n",
    "    print(\"La ecuacion tiene dos soluciones reales: \", \"{0:.2f}\".format(sol), \" y \", \"{0:.2f}\".format(sol1))\n",
    "else:\n",
    "    print(\"No tiene raices reales\")"
   ]
  },
  {
   "cell_type": "markdown",
   "metadata": {},
   "source": [
    "## Resolver con WHILE:"
   ]
  },
  {
   "cell_type": "markdown",
   "metadata": {},
   "source": [
    "23. Dado dos valores A y B, realizar el producto de los dos números por sumas sucesivas,\n",
    "almacenar el resultado en una variable P, mostrar el resultado."
   ]
  },
  {
   "cell_type": "code",
   "execution_count": 7,
   "metadata": {},
   "outputs": [
    {
     "name": "stdout",
     "output_type": "stream",
     "text": [
      "Introducto valor A: 1\n",
      "Introducto valor B: 10\n",
      "El resultado es: \n",
      "1+1+1+1+1+1+1+1+1+1= 10"
     ]
    }
   ],
   "source": [
    "valorA = int(input(\"Introducto valor A: \"))\n",
    "valorB = int(input(\"Introducto valor B: \"))\n",
    "i=1\n",
    "p=0\n",
    "print(\"El resultado es: \")\n",
    "while i <= valorB:\n",
    "    p=p+valorA\n",
    "    print(valorA, end=\"\")\n",
    "    if i == valorB:\n",
    "        print(\"=\", p,end=\"\")\n",
    "    else:\n",
    "        print(\"+\", end=\"\")\n",
    "    i=i+1\n",
    "    \n",
    "\n"
   ]
  },
  {
   "cell_type": "markdown",
   "metadata": {},
   "source": [
    "24. Dado un número X, determinar el número de dígitos del que esta compuesto y\n",
    "desplegar el resultado."
   ]
  },
  {
   "cell_type": "code",
   "execution_count": 10,
   "metadata": {},
   "outputs": [
    {
     "name": "stdout",
     "output_type": "stream",
     "text": [
      "Introduzca el numero X: 1000\n",
      "4\n"
     ]
    }
   ],
   "source": [
    "numeroX = int(input(\"Introduzca el numero X: \"))\n",
    "contador = 1\n",
    "while numeroX > 9:\n",
    "    numeroX = numeroX / 10\n",
    "    contador = contador + 1\n",
    "print(contador)\n"
   ]
  },
  {
   "cell_type": "markdown",
   "metadata": {},
   "source": [
    "25. Escribir un programa que calcule y visualice el más grande, el más pequeño y la media\n",
    "de N números. El valor de N se solicitará al principio del programa y los números\n",
    "serán introducidos por el usuario."
   ]
  },
  {
   "cell_type": "code",
   "execution_count": null,
   "metadata": {},
   "outputs": [],
   "source": []
  },
  {
   "cell_type": "markdown",
   "metadata": {},
   "source": [
    "26. Dado dos números A y B enteros mayores a cero, hallar A^B por sumas. Desplegar los\n",
    "números y el resultado."
   ]
  },
  {
   "cell_type": "code",
   "execution_count": null,
   "metadata": {},
   "outputs": [],
   "source": [
    "numeroA = int(input(\"Introduce el numero A: \"))\n",
    "numeroB = int(input(\"Introduce el numero B: \"))\n",
    "while not numeroA > 0:\n",
    "    numeroA = int(input(\"Introduce el numero A mayor a cero!. Intententelo de nuevo: \"))\n",
    "    print(\"\", end=\"\")\n",
    "while not numeroB > 0:\n",
    "    numeroB = int(input(\"Introduce el numero B mayor a cero!. Intententelo de nuevo: \"))\n",
    "    print(\"\", end=\"\")\n",
    "    \n",
    "    "
   ]
  },
  {
   "cell_type": "markdown",
   "metadata": {},
   "source": [
    "Resolver con FOR:"
   ]
  },
  {
   "cell_type": "code",
   "execution_count": null,
   "metadata": {},
   "outputs": [],
   "source": []
  },
  {
   "cell_type": "code",
   "execution_count": null,
   "metadata": {},
   "outputs": [],
   "source": []
  },
  {
   "cell_type": "code",
   "execution_count": null,
   "metadata": {},
   "outputs": [],
   "source": []
  }
 ],
 "metadata": {
  "kernelspec": {
   "display_name": "Python 3",
   "language": "python",
   "name": "python3"
  },
  "language_info": {
   "codemirror_mode": {
    "name": "ipython",
    "version": 3
   },
   "file_extension": ".py",
   "mimetype": "text/x-python",
   "name": "python",
   "nbconvert_exporter": "python",
   "pygments_lexer": "ipython3",
   "version": "3.6.9"
  }
 },
 "nbformat": 4,
 "nbformat_minor": 4
}
