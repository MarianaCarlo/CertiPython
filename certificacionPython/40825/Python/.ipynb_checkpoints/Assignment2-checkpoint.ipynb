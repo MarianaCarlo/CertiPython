{
 "cells": [
  {
   "cell_type": "markdown",
   "metadata": {},
   "source": [
    "## Resolver con IF:"
   ]
  },
  {
   "cell_type": "markdown",
   "metadata": {},
   "source": [
    "21. Escribir un programa que determine si el año es bisiesto. Un año es bisiesto si es\n",
    "múltiplo de 4 (1988), excepto los múltiplos de 100 que no son bisiestos salvo que a su\n",
    "vez también sean múltiplos de 400 (1800no es bisiesto, 2000 sí)."
   ]
  },
  {
   "cell_type": "code",
   "execution_count": 8,
   "metadata": {},
   "outputs": [
    {
     "name": "stdout",
     "output_type": "stream",
     "text": [
      "Ingrese el año: 2000\n",
      "2000 es un año bisiesto\n"
     ]
    }
   ],
   "source": [
    "anio = int(input(\"Ingrese el año: \"))\n",
    "if (anio%4 == 0 and not anio%100 == 0) or anio%400 == 0:\n",
    "    print(f\"{anio} es un año bisiesto\")\n",
    "else:\n",
    "    print(f\"{anio} no es un año bisiesto\")"
   ]
  },
  {
   "cell_type": "markdown",
   "metadata": {},
   "source": [
    "22. Dado los valores de A, B, C que son los coeficientes de la ecuación de segundo grado,\n",
    "hallar sus raíces reales, desplegar los resultados."
   ]
  },
  {
   "cell_type": "code",
   "execution_count": 2,
   "metadata": {},
   "outputs": [
    {
     "name": "stdout",
     "output_type": "stream",
     "text": [
      "Introduce el coeficiente para a: 2\n",
      "Introduce el coeficiente para b: 9\n",
      "Introduce el coeficiente para c: 1\n",
      "La ecuacion tiene dos soluciones reales:  -0.11  y  -4.39\n"
     ]
    }
   ],
   "source": [
    "import math\n",
    "a = float(input(\"Introduce el coeficiente para a: \"))\n",
    "b = float(input(\"Introduce el coeficiente para b: \"))\n",
    "c = float(input(\"Introduce el coeficiente para c: \"))\n",
    "discriminante = b**2 - (4*a*c)\n",
    "if discriminante == 0:\n",
    "    sol = (-b) /(2*a)\n",
    "    print(\"La ecuacion tiene una unica solucion : \", \"{0:.2f}\".format(sol))\n",
    "elif discriminante >=0:\n",
    "    # 2 soluciones reales distintas\n",
    "    sol = (-b + math.sqrt(discriminante))/(2*a)\n",
    "    sol1 = (-b - math.sqrt(discriminante))/(2*a)\n",
    "    print(\"La ecuacion tiene dos soluciones reales: \", \"{0:.2f}\".format(sol), \" y \", \"{0:.2f}\".format(sol1))\n",
    "else:\n",
    "    print(\"No tiene raices reales\")"
   ]
  },
  {
   "cell_type": "markdown",
   "metadata": {},
   "source": [
    "## Resolver con WHILE:"
   ]
  },
  {
   "cell_type": "markdown",
   "metadata": {},
   "source": [
    "23. Dado dos valores A y B, realizar el producto de los dos números por sumas sucesivas,\n",
    "almacenar el resultado en una variable P, mostrar el resultado."
   ]
  },
  {
   "cell_type": "code",
   "execution_count": 3,
   "metadata": {},
   "outputs": [
    {
     "name": "stdout",
     "output_type": "stream",
     "text": [
      "Introducto valor A: 2\n",
      "Introducto valor B: 8\n",
      "El resultado es: \n",
      "2+2+2+2+2+2+2+2= 16"
     ]
    }
   ],
   "source": [
    "valorA = int(input(\"Introducto valor A: \"))\n",
    "valorB = int(input(\"Introducto valor B: \"))\n",
    "i=1\n",
    "p=0\n",
    "print(\"El resultado es: \")\n",
    "while i <= valorB:\n",
    "    p=p+valorA\n",
    "    print(valorA, end=\"\")\n",
    "    if i == valorB:\n",
    "        print(\"=\", p,end=\"\")\n",
    "    else:\n",
    "        print(\"+\", end=\"\")\n",
    "    i=i+1\n",
    "    \n",
    "\n"
   ]
  },
  {
   "cell_type": "markdown",
   "metadata": {},
   "source": [
    "24. Dado un número X, determinar el número de dígitos del que esta compuesto y\n",
    "desplegar el resultado."
   ]
  },
  {
   "cell_type": "code",
   "execution_count": 10,
   "metadata": {},
   "outputs": [
    {
     "name": "stdout",
     "output_type": "stream",
     "text": [
      "Introduzca el numero X: 1000\n",
      "4\n"
     ]
    }
   ],
   "source": [
    "numeroX = int(input(\"Introduzca el numero X: \"))\n",
    "contador = 1\n",
    "while numeroX > 9:\n",
    "    numeroX = numeroX / 10\n",
    "    contador = contador + 1\n",
    "print(contador)\n"
   ]
  },
  {
   "cell_type": "markdown",
   "metadata": {},
   "source": [
    "25. Escribir un programa que calcule y visualice el más grande, el más pequeño y la media\n",
    "de N números. El valor de N se solicitará al principio del programa y los números\n",
    "serán introducidos por el usuario."
   ]
  },
  {
   "cell_type": "code",
   "execution_count": 13,
   "metadata": {},
   "outputs": [
    {
     "name": "stdout",
     "output_type": "stream",
     "text": [
      "Introduce el numero: 8\n",
      "Introduce el valor 1: 9\n",
      "Introduce el valor 2: 123\n",
      "Introduce el valor 3: 5\n",
      "Introduce el valor 4: 4\n",
      "Introduce el valor 5: 12\n",
      "Introduce el valor 6: 45\n",
      "Introduce el valor 7: 56\n",
      "Introduce el valor 8: 76\n",
      "Los elementos de la lista son:  [9, 123, 5, 4, 12, 45, 56, 76]\n",
      "El elemento mas grande es:  123\n",
      "El elemento mas pequeño es:  4\n",
      "La media es:  41.25\n"
     ]
    }
   ],
   "source": [
    "rango = int(input(\"Introduce el numero: \"))\n",
    "i =1\n",
    "lista=[]\n",
    "while i <= rango:\n",
    "    valor = int(input(f\"Introduce el valor {i}: \"))\n",
    "    lista.append(valor)\n",
    "    i+=1\n",
    "media = sum(lista)/len(lista)\n",
    "print(\"Los elementos de la lista son: \",lista)\n",
    "print(\"El elemento mas grande es: \",max(lista))\n",
    "print(\"El elemento mas pequeño es: \",min(lista))\n",
    "print(\"La media es: \",media)"
   ]
  },
  {
   "cell_type": "markdown",
   "metadata": {},
   "source": [
    "#### 26. Dado dos números A y B enteros mayores a cero, hallar A^B por sumas. Desplegar los\n",
    "números y el resultado."
   ]
  },
  {
   "cell_type": "code",
   "execution_count": 20,
   "metadata": {},
   "outputs": [
    {
     "name": "stdout",
     "output_type": "stream",
     "text": [
      "Introduce el numero A: 2\n",
      "Introduce el numero B: 3\n",
      "2 ^ 3 = 8\n"
     ]
    }
   ],
   "source": [
    "numeroA = int(input(\"Introduce el numero A: \"))\n",
    "numeroB = int(input(\"Introduce el numero B: \"))\n",
    "while not numeroA > 0:\n",
    "    numeroA = int(input(\"Introduce el numero A mayor a cero!. Intententelo de nuevo: \"))\n",
    "    print(\"\", end=\"\")\n",
    "while not numeroB > 0:\n",
    "    numeroB = int(input(\"Introduce el numero B mayor a cero!. Intententelo de nuevo: \"))\n",
    "    print(\"\", end=\"\")\n",
    "rango=numeroA\n",
    "i=1\n",
    "exp=numeroA\n",
    "while i<numeroB:\n",
    "    cont=1\n",
    "    while cont<rango:\n",
    "        exp=exp+numeroA\n",
    "        cont=cont+1\n",
    "    i+=1\n",
    "    numeroA=exp\n",
    "print(rango,\"^\",numeroB,\"=\",exp)\n",
    "    \n",
    "    "
   ]
  },
  {
   "cell_type": "markdown",
   "metadata": {},
   "source": [
    "## Resolver con FOR:"
   ]
  },
  {
   "cell_type": "markdown",
   "metadata": {},
   "source": [
    "27. La constante pi (3.1441592...) es muy utilizada en matemáticas. Un método sencillo\n",
    "de calcular su valor es:\n",
    "<img src=formulaPI.png align=center><BR>\n",
    "Escribir un programa que efectúe este cálculo con un número de términos\n",
    "especificando por el usuario."
   ]
  },
  {
   "cell_type": "code",
   "execution_count": 14,
   "metadata": {},
   "outputs": [
    {
     "name": "stdout",
     "output_type": "stream",
     "text": [
      "Introduce el numero limite: 5000\n",
      "3.1414355935898644\n"
     ]
    }
   ],
   "source": [
    "numero = int(input(\"Introduce el numero limite: \"))\n",
    "p1 = 1\n",
    "for k in range(1,numero+1):\n",
    "    p1 = p1*((2*k)/(2*k-1))*((2*k)/(2*k+1))\n",
    "print(p1*2)"
   ]
  },
  {
   "cell_type": "markdown",
   "metadata": {},
   "source": [
    "28. El valor de e^x se puede aproximar por la suma\n",
    "<img src=formula28.png align=center><BR>\n",
    "Escribir un programa que tome un valor de x como entrada y visualice la suma para\n",
    "cada uno de los valores de 1 a 100."
   ]
  },
  {
   "cell_type": "code",
   "execution_count": 25,
   "metadata": {},
   "outputs": [
    {
     "name": "stdout",
     "output_type": "stream",
     "text": [
      "Ingrese el valor de X: 15\n",
      "3269017.3724721107\n"
     ]
    }
   ],
   "source": [
    "x = int(input(\"Ingrese el valor de X: \"))\n",
    "fact = 1\n",
    "n = 100\n",
    "formula = 1\n",
    "for i in range(1, n+1):\n",
    "    fact=fact*i\n",
    "    formula = formula + ((x**i)/fact)      \n",
    "print(formula)"
   ]
  },
  {
   "cell_type": "markdown",
   "metadata": {},
   "source": [
    "## USO DE LISTAS ANIDADAS"
   ]
  },
  {
   "cell_type": "markdown",
   "metadata": {},
   "source": [
    "29. Calcular la suma de todos los elementos de un vector, así como la media aritmética."
   ]
  },
  {
   "cell_type": "code",
   "execution_count": 36,
   "metadata": {},
   "outputs": [
    {
     "name": "stdout",
     "output_type": "stream",
     "text": [
      "Introduce los valores: 12,34,56,4,3,2,1,8,9,10\n",
      "La suma de todos los elementos es:  139\n",
      "La media aritmética es:  13.9\n"
     ]
    }
   ],
   "source": [
    "vector = input(\"Introduce los valores: \")\n",
    "vectores = []\n",
    "vectores = vector.split(\",\")\n",
    "media = 0\n",
    "suma = 0\n",
    "for i in range(len(vectores)):\n",
    "    media = media+int(vectores[i])\n",
    "    suma = suma +int(vectores[i])\n",
    "media = media / len(vectores)\n",
    "print(\"La suma de todos los elementos es: \",suma)\n",
    "print(\"La media aritmética es: \",media)"
   ]
  },
  {
   "cell_type": "markdown",
   "metadata": {},
   "source": [
    "30. Multiplicar dos matrices."
   ]
  },
  {
   "cell_type": "code",
   "execution_count": null,
   "metadata": {},
   "outputs": [],
   "source": []
  },
  {
   "cell_type": "code",
   "execution_count": null,
   "metadata": {},
   "outputs": [],
   "source": []
  }
 ],
 "metadata": {
  "kernelspec": {
   "display_name": "Python 3",
   "language": "python",
   "name": "python3"
  },
  "language_info": {
   "codemirror_mode": {
    "name": "ipython",
    "version": 3
   },
   "file_extension": ".py",
   "mimetype": "text/x-python",
   "name": "python",
   "nbconvert_exporter": "python",
   "pygments_lexer": "ipython3",
   "version": "3.6.9"
  }
 },
 "nbformat": 4,
 "nbformat_minor": 4
}
