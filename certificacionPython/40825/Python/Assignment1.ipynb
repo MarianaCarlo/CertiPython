{
 "cells": [
  {
   "cell_type": "markdown",
   "metadata": {},
   "source": [
    "1. Escriba un programa que lea un entero (input), lo multiplique por 3 y lo imprima."
   ]
  },
  {
   "cell_type": "code",
   "execution_count": 1,
   "metadata": {
    "scrolled": true
   },
   "outputs": [
    {
     "name": "stdout",
     "output_type": "stream",
     "text": [
      "¿INtroduce numero a multiplica?\n",
      "4\n",
      "El resultado es: 12\n"
     ]
    }
   ],
   "source": [
    "print(\"¿INtroduce numero a multiplica?\")\n",
    "numero = int(input())\n",
    "print(f\"El resultado es: {round(numero*3)}\")"
   ]
  },
  {
   "cell_type": "markdown",
   "metadata": {},
   "source": [
    "2. Escribir un programa que pida al cliente la longitud y ancho de la habitación e imprima la superficie de la habitación, los valores podrán tener decimales. Formato de salida deseado: xx.yy m^2"
   ]
  },
  {
   "cell_type": "code",
   "execution_count": 2,
   "metadata": {},
   "outputs": [
    {
     "name": "stdout",
     "output_type": "stream",
     "text": [
      "Ingrese la longitud de la habitacion: 35.5\n",
      "Ingrese el ancho de la habitacion: 24.3\n",
      "La superficie de la habitacion es: 862.65 m^2\n"
     ]
    }
   ],
   "source": [
    "longitud = float(input(\"Ingrese la longitud de la habitacion: \"))\n",
    "ancho = float(input(\"Ingrese el ancho de la habitacion: \"))\n",
    "superficie = longitud*ancho\n",
    "print(f\"La superficie de la habitacion es: {superficie} m^2\")"
   ]
  },
  {
   "cell_type": "markdown",
   "metadata": {},
   "source": [
    "3 Determinar el área y volumen de un cilindro cuyas dimensiones (radio - altura) se lean\n",
    "desde el teclado."
   ]
  },
  {
   "cell_type": "code",
   "execution_count": 29,
   "metadata": {},
   "outputs": [
    {
     "name": "stdout",
     "output_type": "stream",
     "text": [
      "Ingrese el radio del cilindro: 2\n",
      "Ingrese la altura del cilindro: 10\n",
      "El area lateral del cilindro es: 125.66370614359172 m^3\n",
      "EL area total del cilindro es: 150.80 m^3\n",
      "EL volumen del cilindro es: 1256.64 m^3\n"
     ]
    }
   ],
   "source": [
    "from math import pi\n",
    "radio = float(input(\"Ingrese el radio del cilindro: \"))\n",
    "altura = float(input(\"Ingrese la altura del cilindro: \"))\n",
    "area = 2*pi*radio*altura\n",
    "areaTotal = \"{0:.2f}\".format(2*pi*radio*(altura+radio))\n",
    "volumen = \"{0:.2f}\".format(area*altura)\n",
    "print(f\"El area lateral del cilindro es: {area} m^3\")\n",
    "print(f\"EL area total del cilindro es: {areaTotal} m^3\")\n",
    "print(f\"EL volumen del cilindro es: {volumen} m^3\")"
   ]
  },
  {
   "cell_type": "markdown",
   "metadata": {},
   "source": [
    "4. Escriba un programa que lea la masa de dos cuerpos y la distancia entre ellos y a\n",
    "continuación obtenga la fuerza gravitacional entre ella. La salida debe ser en dinas; un\n",
    "DINA es igual a g*cm/seg2.\n",
    "Formato de salida deseado: xx.yy dyn"
   ]
  },
  {
   "cell_type": "code",
   "execution_count": 27,
   "metadata": {},
   "outputs": [
    {
     "name": "stdout",
     "output_type": "stream",
     "text": [
      "Introduce la masa del cuerpo 1: 5000\n",
      "Introduce la masa del cuerpo 2: 6000\n",
      "Introduce la distancia entre los 2 cuerpos: 3\n",
      "LA fuerza gravitacional es: 0.22 dyn\n"
     ]
    }
   ],
   "source": [
    "import math \n",
    "masa1 = float(input(\"Introduce la masa del cuerpo 1: \"))\n",
    "masa2 = float(input(\"Introduce la masa del cuerpo 2: \"))\n",
    "distancia = float(input(\"Introduce la distancia entre los 2 cuerpos: \"))\n",
    "gravedad = 6.673*((10)**(-8))\n",
    "fuerzaGrav = \"{0:.2f}\".format((gravedad*masa1*masa2)/(distancia**2))\n",
    "\n",
    "print(f\"LA fuerza gravitacional es: {fuerzaGrav} dyn\")\n"
   ]
  },
  {
   "cell_type": "markdown",
   "metadata": {},
   "source": [
    "5. Escribir un programa que lea una masa en gramos y obtenga la cantidad de energía\n",
    "producida cuando la masa se convierta en energía.\n",
    "Nota: se la masa se da en gramos, la fórmula produce la energía en ergios.\n",
    "Formato de salida deseado: xx.yy erg"
   ]
  },
  {
   "cell_type": "code",
   "execution_count": 31,
   "metadata": {},
   "outputs": [
    {
     "name": "stdout",
     "output_type": "stream",
     "text": [
      "Introduce la masa en gramos: 20\n",
      "LA energia es: 239834000000000.00 erg\n"
     ]
    }
   ],
   "source": [
    "masa = float(input(\"Introduce la masa en gramos: \"))\n",
    "cantidadE = 2.997925*(10**10)\n",
    "energia = \"{0:.2f}\".format(cantidadE*(masa**3))\n",
    "print(f\"LA energia es: {energia} erg\")"
   ]
  },
  {
   "cell_type": "markdown",
   "metadata": {},
   "source": [
    "6. Escribir un programa que lea la hora en un día de notación 24 horas y escriba la\n",
    "respuesta en notación de 12 horas. Por ejemplo, si la entrada es 13:45, la salida será: 2>45 PM"
   ]
  },
  {
   "cell_type": "code",
   "execution_count": 43,
   "metadata": {},
   "outputs": [
    {
     "name": "stdout",
     "output_type": "stream",
     "text": [
      "INtroduce la hora: 18:33\n",
      "06:33 PM\n"
     ]
    }
   ],
   "source": [
    "horas = input(\"INtroduce la hora: \")\n",
    "primero = horas.split (\":\")\n",
    "\n",
    "hour = int(primero[0]) % 24\n",
    "twelve = (hour >= 0) and (hour < 12)\n",
    "if twelve:\n",
    "    primero[0] = ('12' if (hour == 0) else \"%02d\" % (hour))\n",
    "else:\n",
    "    primero[0] = ('12' if (hour == 12) else \"%02d\" % (hour-12))\n",
    " \n",
    "print( ':'.join (primero) + (' AM' if twelve else ' PM'))"
   ]
  },
  {
   "cell_type": "markdown",
   "metadata": {},
   "source": [
    "7.Leer un número A, evaluar sucesivamente las expresiones siguientes y desplegar los\n",
    "resultados obtenidos en un archivo denominado “practica01.out”.\n",
    "B = A + 10\n",
    "C = 2 * B + A\n",
    "D = A + B + C + 5\n",
    "Formato de salida deseado:\n",
    "Ejercicio 9.\n",
    "A = xx\n",
    "B = yy\n",
    "C = zz\n",
    "D = xyz"
   ]
  },
  {
   "cell_type": "code",
   "execution_count": 61,
   "metadata": {},
   "outputs": [
    {
     "name": "stdout",
     "output_type": "stream",
     "text": [
      "Introduce numero A:6\n"
     ]
    }
   ],
   "source": [
    "numeroA = int(input(\"Introduce numero A:\"))\n",
    "print(\"Ejercicio 9.\", \"\\n\" ,\n",
    "      \"A = \" ,numeroA , \"\\n\" ,\n",
    "      \"B = \" ,numeroA + 10 , \"\\n\",\n",
    "      \"C = \" ,2*(numeroA +10) + numeroA , \"\\n\",\n",
    "      \"D = \" ,numeroA+ (numeroA +10)+(2*(numeroA +10) + numeroA) + 5, \"\\n\", file=open(\"practica01.out\",\"w\"))"
   ]
  },
  {
   "cell_type": "markdown",
   "metadata": {},
   "source": [
    "8. Hacer leer un número X de tipo decimal, hallar su valor absoluto y decimal, desplegar\n",
    "el resultado dentro del archivo “practica01.out”.\n",
    "Formato de salida deseado:\n",
    "Ejercicio 8.\n",
    "Número: xx.yy\n",
    "Valor absoluto: xx\n",
    "Parte decimal: yy"
   ]
  },
  {
   "cell_type": "code",
   "execution_count": 62,
   "metadata": {},
   "outputs": [
    {
     "name": "stdout",
     "output_type": "stream",
     "text": [
      "Introduce numero X: 23.4\n"
     ]
    },
    {
     "data": {
      "text/plain": [
       "54"
      ]
     },
     "execution_count": 62,
     "metadata": {},
     "output_type": "execute_result"
    }
   ],
   "source": [
    "archivo = open(\"practica01.out\",\"r\")\n",
    "archivo = str(archivo.read())\n",
    "numeroX = float(input(\"Introduce numero X: \"))\n",
    "ListNumero = str(numeroX).split(\".\") \n",
    "print(\"Ejercicio 8.\", \"\\n\" ,\n",
    "      \"Número: \" ,numeroX , \"\\n\" ,\n",
    "      \"Valor absoluto: \" ,ListNumero[0] , \"\\n\",\n",
    "      \"Parte decimal: \" ,ListNumero[1], \"\\n\",  file=open(\"practica01.out\",\"w\"))\n",
    "archivoFinal = open(\"practica01.out\",\"r\")\n",
    "archivoFinal = str(archivoFinal.read())\n",
    "file=open(\"practica01.out\",\"w\")\n",
    "file.write(archivoFinal)\n",
    "file.write(archivo)"
   ]
  },
  {
   "cell_type": "markdown",
   "metadata": {},
   "source": [
    "9. Leer a, b, c y d, hallar el menor y mayor de los cuatro números, desplegar su resultado\n",
    "en el archivo “practica01.out”."
   ]
  },
  {
   "cell_type": "code",
   "execution_count": 63,
   "metadata": {},
   "outputs": [
    {
     "name": "stdout",
     "output_type": "stream",
     "text": [
      "Valor de a: 3\n",
      "Valor de b: 5\n",
      "Valor de c: 6\n",
      "Valor de d: 2\n"
     ]
    },
    {
     "data": {
      "text/plain": [
       "74"
      ]
     },
     "execution_count": 63,
     "metadata": {},
     "output_type": "execute_result"
    }
   ],
   "source": [
    "archivo = open(\"practica01.out\",\"r\")\n",
    "archivo = str(archivo.read())\n",
    "a = int(input(\"Valor de a: \"))\n",
    "b = int(input(\"Valor de b: \"))\n",
    "c = int(input(\"Valor de c: \"))\n",
    "d = int(input(\"Valor de d: \"))\n",
    "numeros = [a,b,c,d]\n",
    "print(\"Ejercicio 10.\", \"\\n\" ,\n",
    "      \"Números: a=\" ,a,\" b=\",b , \" c=\", c ,\" d=\" ,d, \"\\n\" ,\n",
    "      \"menor: \" ,min(numeros) , \"\\n\",\n",
    "      \"mayor: \" ,max(numeros), \"\\n\",  file=open(\"practica01.out\",\"w\"))\n",
    "archivoFinal=open(\"practica01.out\",\"r\")\n",
    "archivoFinal = str(archivoFinal.read())\n",
    "file=open(\"practica01.out\",\"w\")\n",
    "file.write(archivo)\n",
    "file.write(archivoFinal)"
   ]
  },
  {
   "cell_type": "markdown",
   "metadata": {},
   "source": [
    "10. 10. Dado los valores de X, Y, Z, evaluar A = X^2+Y^2+Z^2. Si se cumple que, A<100 y Y<5\n",
    "calcular B = (X+Y)^2 – X*Z, caso contrario calcular B = (X-Y)^2 + X*Z. Desplegar A y B\n",
    "en el archivo “practica01.out”"
   ]
  },
  {
   "cell_type": "code",
   "execution_count": 64,
   "metadata": {},
   "outputs": [
    {
     "name": "stdout",
     "output_type": "stream",
     "text": [
      "Valor de X: 6\n",
      "Valor de Y: 8\n",
      "Valor de Z: 3\n"
     ]
    },
    {
     "data": {
      "text/plain": [
       "47"
      ]
     },
     "execution_count": 64,
     "metadata": {},
     "output_type": "execute_result"
    }
   ],
   "source": [
    "archivo = open(\"practica01.out\",\"r\")\n",
    "archivo = str(archivo.read())\n",
    "x = int(input(\"Valor de X: \"))\n",
    "y = int(input(\"Valor de Y: \"))\n",
    "z = int(input(\"Valor de Z: \"))\n",
    "\n",
    "a = (x*x) + (y*y)+ (z*z)\n",
    "if a<100 and y<5:\n",
    "    b = (x*x)+(2*x*y) +(y*y) - (x*z)\n",
    "else:\n",
    "    b = (x*x)-(2*x*y) +(y*y) + (x*z)\n",
    "print(\"Ejercicio 11.\", \"\\n\" ,\n",
    "      \"valor A: \" , a , \"\\n\" ,\n",
    "      \"Valor B: \" ,b , \"\\n\", file=open(\"practica01.out\",\"w\"))\n",
    "archivoFinal = open(\"practica01.out\",\"r\")\n",
    "archivoFinal = str(archivoFinal.read())\n",
    "file=open(\"practica01.out\",\"w\")\n",
    "file.write(archivo)\n",
    "file.write(archivoFinal)"
   ]
  },
  {
   "cell_type": "code",
   "execution_count": null,
   "metadata": {},
   "outputs": [],
   "source": []
  }
 ],
 "metadata": {
  "kernelspec": {
   "display_name": "Python 3",
   "language": "python",
   "name": "python3"
  },
  "language_info": {
   "codemirror_mode": {
    "name": "ipython",
    "version": 3
   },
   "file_extension": ".py",
   "mimetype": "text/x-python",
   "name": "python",
   "nbconvert_exporter": "python",
   "pygments_lexer": "ipython3",
   "version": "3.6.9"
  }
 },
 "nbformat": 4,
 "nbformat_minor": 4
}
