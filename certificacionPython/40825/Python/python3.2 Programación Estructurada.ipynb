{
 "cells": [
  {
   "cell_type": "markdown",
   "metadata": {},
   "source": [
    "<img src=cenapad.jpg align=left><BR><BR><BR><BR><BR><BR>\n",
    "<h1>Curso Introducción al Lenguaje Python<br>Programación Estructurada</h1>\n",
    "<img src=python-logo.png align=left>"
   ]
  },
  {
   "cell_type": "markdown",
   "metadata": {},
   "source": [
    "# 2.1 Primeros pasos hacia la programación¶"
   ]
  },
  {
   "cell_type": "markdown",
   "metadata": {},
   "source": [
    "Por supuesto, podemos usar Python para tareas más complicadas que sumar dos y dos. Por ejemplo, podemos escribir una subsecuencia inicial de la serie de Fibonacci así:"
   ]
  },
  {
   "cell_type": "code",
   "execution_count": 23,
   "metadata": {},
   "outputs": [
    {
     "name": "stdout",
     "output_type": "stream",
     "text": [
      "1\n",
      "1\n",
      "2\n",
      "3\n",
      "5\n",
      "8\n"
     ]
    }
   ],
   "source": [
    "# Series de Fibonacci:\n",
    "# la suma de dos elementos define el siguiente\n",
    "a, b = 0, 1\n",
    "while b < 10:\n",
    "    print(b)\n",
    "    a, b = b, a+b"
   ]
  },
  {
   "cell_type": "code",
   "execution_count": null,
   "metadata": {},
   "outputs": [],
   "source": [
    "lista=[]\n",
    "a, b = 0, 1\n",
    "\n",
    "while b < 10:\n",
    "    lista.append(b)\n",
    "    a, b = b, a+b\n",
    "    \n",
    "print(lista)"
   ]
  },
  {
   "cell_type": "markdown",
   "metadata": {},
   "source": [
    "Este ejemplo introduce varias características nuevas.\n",
    "<ul>\n",
    "<li>La primer línea contiene una asignación múltiple: las variables a y b toman en forma simultanea los nuevos valores 0 y 1. En la última linea esto se vuelve a usar, demostrando que las expresiones a la derecha son evaluadas antes de que suceda cualquier asignación. Las expresiones a la derecha son evaluadas de izquierda a derecha.</li><br>\n",
    "\n",
    "<li>El bucle while se ejecuta mientras la condición (aquí: b < 10) sea verdadera. En Python, como en C, cualquier entero distinto de cero es verdadero; cero es falso. La condición también puede ser una cadena de texto o una lista, de hecho cualquier secuencia; cualquier cosa con longitud distinta de cero es verdadero, las secuencias vacías son falsas. La prueba usada en el ejemplo es una comparación simple.</li><br>\n",
    "\n",
    "<li>El cuerpo del bucle tiene sangría: Python utiliza 4 espacios para diferencias que se encuentra en un bucle o función. El interpretador permite la utilziación de 4 espacios o tabulación (tab) pero no mezclar ambos tipos, pues puede generar errores en la interpretación.</li><br>\n",
    "\n",
    "<li>La función print() escribe el valor de el o los argumentos que se le pasan. Difiere de simplemente escribir la expresión que se quiere mostrar en la forma en que maneja múltiples argumentos, cantidades en punto flotante, y cadenas. Las cadenas de texto son impresas sin comillas, y un espacio en blanco es insertado entre los elementos, así puedes formatear cosas de una forma agradable:</li>\n",
    "\n",
    "</ul>"
   ]
  },
  {
   "cell_type": "code",
   "execution_count": null,
   "metadata": {},
   "outputs": [],
   "source": [
    "i = 256 * 256\n",
    "print('El valor de i es', i)"
   ]
  },
  {
   "cell_type": "markdown",
   "metadata": {},
   "source": [
    "El parámetro nombrado end puede usarse para evitar el salto de linea al final de la salida, o terminar la salida con una cadena diferente:"
   ]
  },
  {
   "cell_type": "code",
   "execution_count": null,
   "metadata": {},
   "outputs": [],
   "source": [
    "lista = []\n",
    "a, b = 0, 1\n",
    "while b < 1000:\n",
    "    print(b, end=', ')\n",
    "    lista.append(b)\n",
    "    a, b = b, a+b"
   ]
  },
  {
   "cell_type": "code",
   "execution_count": null,
   "metadata": {},
   "outputs": [],
   "source": [
    "for elemento in lista:\n",
    "    print(elemento, end=\", \")"
   ]
  },
  {
   "cell_type": "markdown",
   "metadata": {},
   "source": [
    "Otros ejemplos de la utilización de <b>print</b>."
   ]
  },
  {
   "cell_type": "code",
   "execution_count": null,
   "metadata": {},
   "outputs": [],
   "source": [
    "print('Mercury', 'Venus', 'Earth', sep=', ')\n",
    "print('Mars', 'Jupiter', 'Saturn', sep=', ')\n",
    "print('Uranus', 'Neptune', 'Pluto', sep=', ')"
   ]
  },
  {
   "cell_type": "code",
   "execution_count": null,
   "metadata": {},
   "outputs": [],
   "source": [
    "print('Mercury', 'Venus', 'Earth', sep=', ', end='\\t\\t')\n",
    "print('Mars', 'Jupiter', 'Saturn', sep=', ', end='\\t\\t')\n",
    "print('Uranus', 'Neptune', 'Pluto', sep=', ')"
   ]
  },
  {
   "cell_type": "code",
   "execution_count": null,
   "metadata": {},
   "outputs": [],
   "source": [
    "print('Mercury', 'Venus', 'Earth', sep=', ')\n",
    "print('Mars', 'Jupiter', 'Saturn', sep=', ')\n",
    "print('Uranus', 'Neptune', 'Pluto', sep=', ')"
   ]
  },
  {
   "cell_type": "code",
   "execution_count": null,
   "metadata": {},
   "outputs": [],
   "source": [
    "print('Printing in a Nutshell', end='\\n * ')\n",
    "print('Calling Print', end='\\n * ')\n",
    "print('Separating Multiple Arguments', end='\\n * ')\n",
    "print('Preventing Line Breaks')"
   ]
  },
  {
   "cell_type": "markdown",
   "metadata": {},
   "source": [
    "Para más información sobre print visitar: https://realpython.com/python-print/"
   ]
  },
  {
   "cell_type": "markdown",
   "metadata": {},
   "source": [
    "# 2.2. Condicionales: if, elif y else"
   ]
  },
  {
   "cell_type": "markdown",
   "metadata": {},
   "source": [
    "La declaración if/elif/else funciona para controlar el fluxo de ejecución basandose en una o más condiciones. La sintaxis es la siguiente:"
   ]
  },
  {
   "cell_type": "code",
   "execution_count": null,
   "metadata": {},
   "outputs": [],
   "source": [
    "#No ejecute está célula\n",
    "if condicion:\n",
    "    comando1\n",
    "    comando2\n",
    "    ...\n",
    "    comandoN\n",
    "elif condicion:\n",
    "    comando1\n",
    "    comando2\n",
    "    ...\n",
    "    comandoN\n",
    "else:\n",
    "    comando1\n",
    "    comando2\n",
    "    ...\n",
    "    comandoN"
   ]
  },
  {
   "cell_type": "markdown",
   "metadata": {},
   "source": [
    "Observa la <b>IDENTACIÓN</b> que define los bloques de código, a diferencia de otros lenguajes que usan delimitadores como llaves tales como \"{\" y \"}\" o bloques con \"begin\" y \"end\".<br>\n",
    "\n",
    "Una buena práctica es usar <b>IDENTATION</b> con 4 espacios (primer nivel), 8 espacios (segundo nivel), etc.<br>\n",
    "\n",
    "<b>NO SE DEBÉN USAR TABULACIONES</b> (debido a las convenciones de portabilidad y legibilidad), aunque están permitidas.<br>\n",
    "\n",
    "<b>NUNCA se debe mezclar espacios con tabulaciones en el mismo programa.</b><br>\n",
    "\n",
    "IDENTATION en Python es obligatorio y forma parte de la sintaxis. La ventaja de esta característica es la legibilidad del código. La mayoría de los editores de código o IDE de desarrollo facilitarán el trabajo de IDENTACIÓN colocando espacios automáticamente si se encuentra dentro del contexto de un bloque de código."
   ]
  },
  {
   "cell_type": "markdown",
   "metadata": {},
   "source": [
    "#### Ejemplo de uso del condicional if elif else:"
   ]
  },
  {
   "cell_type": "code",
   "execution_count": null,
   "metadata": {},
   "outputs": [],
   "source": [
    "nombre = input(\"¿Cual es su nombre?:\")\n",
    "edad = int(input(\"¿Cual es su edad?:\")) #Ingrese un número entero\n",
    "grupo=\"\"\n",
    "\n",
    "if edad <= 12:\n",
    "    grupo = \"Infancia\"\n",
    "elif edad <= 18:\n",
    "    grupo = \"Adolescencia\"\n",
    "elif edad <= 26:\n",
    "    grupo = \"Juventud\"\n",
    "elif edad <= 65:\n",
    "    grupo = \"Adultez\"\n",
    "else:\n",
    "    grupo = \"Persona Mayor\"\n",
    "\n",
    "print(f\"Nombre: {nombre} - Edad: {edad} - Pertenece al grupo {grupo}.\")"
   ]
  },
  {
   "cell_type": "markdown",
   "metadata": {},
   "source": [
    "La palabra reservada ‘elif‘ es una abreviación de ‘else if’, y es útil para evitar un sangrado excesivo. Una secuencia if ... elif ... elif ... sustituye las sentencias switch o case encontradas en otros lenguajes.\n",
    "\n",
    "La declaración if/elif/else puede precisa tener  tener ninguún bloque elif, por ejemplo:"
   ]
  },
  {
   "cell_type": "code",
   "execution_count": null,
   "metadata": {},
   "outputs": [],
   "source": [
    "edad=21\n",
    "if edad<=17:\n",
    "    print(\"Menor de edad\")\n",
    "else:\n",
    "    print(\"Mayor de edad\")"
   ]
  },
  {
   "cell_type": "markdown",
   "metadata": {},
   "source": [
    "Es posible combinar condiones con otros operadores <b>and</b>, <b>not</b> y <b>or</b>."
   ]
  },
  {
   "cell_type": "code",
   "execution_count": null,
   "metadata": {},
   "outputs": [],
   "source": [
    "edad = 31\n",
    "if edad <= 12:\n",
    "    print(\"Infancia\")\n",
    "elif edad > 12 and edad < 21:\n",
    "    print(\"Adolescente\")\n",
    "elif edad>=21:\n",
    "    print(\"Adulto\")"
   ]
  },
  {
   "cell_type": "code",
   "execution_count": null,
   "metadata": {},
   "outputs": [],
   "source": [
    "x = int(input(\"Ingrese un número entero: \"))\n",
    "y = int(input(\"Ingrese otro número entero: \"))\n",
    "if x%2==1 and y%2==1:\n",
    "    print(\"Ambos números son impares\")\n",
    "else:\n",
    "    print(\"Por lo menos uno de los números es par\")"
   ]
  },
  {
   "cell_type": "code",
   "execution_count": null,
   "metadata": {},
   "outputs": [],
   "source": [
    "x = int(input(\"Ingrese un número entero: \"))\n",
    "y = int(input(\"Ingrese otro número entero: \"))\n",
    "if x%2==1 or y%2==1:\n",
    "    print(\"Por lo menos uno delos números es impar\")\n",
    "else:\n",
    "    print(\"Ambos números son pares\")"
   ]
  },
  {
   "cell_type": "code",
   "execution_count": 5,
   "metadata": {},
   "outputs": [
    {
     "name": "stdout",
     "output_type": "stream",
     "text": [
      "3 es divisible por 3\n",
      "6 es divisible por 3\n",
      "9 es divisible por 3\n",
      "12 es divisible por 3\n",
      "15 es divisible por 3\n",
      "18 es divisible por 3\n",
      "21 es divisible por 3\n",
      "24 es divisible por 3\n",
      "27 es divisible por 3\n"
     ]
    }
   ],
   "source": [
    "num = list(range(1,30))\n",
    "for n in num:\n",
    "    if n%3==0:\n",
    "        print(f\"{n} es divisible por 3\")"
   ]
  },
  {
   "cell_type": "markdown",
   "metadata": {},
   "source": [
    "Alternativamente, en lugar de imprimir en la pantalla, podemos crear una lista con los números divisibles por 3 y luego imprimirla"
   ]
  },
  {
   "cell_type": "code",
   "execution_count": 6,
   "metadata": {},
   "outputs": [
    {
     "name": "stdout",
     "output_type": "stream",
     "text": [
      "[3, 6, 9, 12, 15, 18, 21, 24, 27]\n"
     ]
    }
   ],
   "source": [
    "num = list(range(1,30))\n",
    "num_div3=[] #Iniciando una lista vacia (Esto es necesario para que podemos usar el método append)\n",
    "for n in num:\n",
    "    if n%3==0:\n",
    "        num_div3.append(n)\n",
    "print(num_div3)"
   ]
  },
  {
   "cell_type": "markdown",
   "metadata": {},
   "source": [
    "### Ejercicio 1:\n",
    "\n",
    "Dado tres puntos en el plano expresados como coordenadas (x, y) informar cuál es el que se encuentra más lejos del centro de coordenadas."
   ]
  },
  {
   "cell_type": "code",
   "execution_count": 13,
   "metadata": {},
   "outputs": [
    {
     "name": "stdout",
     "output_type": "stream",
     "text": [
      "Introduce el numero para x1: 5\n",
      "Introduce el numero para y1: 6\n",
      "Introduce el numero para x2: 4\n",
      "Introduce el numero para y2: 8\n",
      "Introduce el numero para x3: 4\n",
      "Introduce el numero para y3: 9\n",
      "la respuesta de dis1:  3.4444444444444455\n",
      "la respuesta de dis2:  0.444444444444444\n",
      "la respuesta de dis3:  2.11111111111111\n",
      "la lista es:  [0.444444444444444, 2.11111111111111, 3.4444444444444455]\n",
      "El que se encuentra mas lejano es:   =3.44\n"
     ]
    }
   ],
   "source": [
    "import math\n",
    "x1 = int(input(\"Introduce el numero para x1: \"))\n",
    "y1 = int(input(\"Introduce el numero para y1: \"))\n",
    "x2 = int(input(\"Introduce el numero para x2: \"))\n",
    "y2 = int(input(\"Introduce el numero para y2: \"))\n",
    "x3 = int(input(\"Introduce el numero para x3: \"))\n",
    "y3 = int(input(\"Introduce el numero para y3: \"))\n",
    "# Media de los 3 puntos\n",
    "resx1 = (x1+x2+x3)/3\n",
    "resy1 = (y1+y2+y3)/3\n",
    "\n",
    "# La distancia de punto a punto es\n",
    "dis1 = math.sqrt((x1-resx1)**2)+((y1-resy1)**2)\n",
    "dis2 = math.sqrt((x2-resx1)**2)+((y2-resy1)**2)\n",
    "dis3 = math.sqrt((x3-resx1)**2)+((y3-resy1)**2)\n",
    "\n",
    "print(\"la respuesta de dis1: \",dis1)\n",
    "print(\"la respuesta de dis2: \", dis2)\n",
    "print(\"la respuesta de dis3: \", dis3)\n",
    "\n",
    "calc = [dis1,dis2,dis3]\n",
    "calc.sort()\n",
    "print(\"la lista es: \", calc)\n",
    "# el punto mas lejano\n",
    "print(\"El que se encuentra mas lejano es: \", '%.2f'  %calc[2])"
   ]
  },
  {
   "cell_type": "markdown",
   "metadata": {},
   "source": [
    "### Ejercicio 2:\n",
    "\n",
    "Escribir un programa que almacene la cadena de caracteres contraseña en una variable, pregunte al usuario por la contraseña e imprima por pantalla si la contraseña introducida por el usuario coincide con la guardada en la variable sin tener en cuenta mayúsculas y minúsculas.\n",
    "\n",
    "Sugerencia: utilizar la función lower.\n",
    "\n",
    "<b>Salida deseada:</b><br>\n",
    "La contaseña coincide<br>\n",
    "<br>\n",
    "La contraseña no coincide"
   ]
  },
  {
   "cell_type": "code",
   "execution_count": 34,
   "metadata": {},
   "outputs": [
    {
     "name": "stdout",
     "output_type": "stream",
     "text": [
      "Ingrese la contrasena: Hola\n",
      "hola\n",
      "La contaseña coincide\n"
     ]
    }
   ],
   "source": [
    "contrasena1 = input(\"Ingrese la contrasena: \")\n",
    "contrasena = contrasena1.lower()\n",
    "validarCon = contrasena1.lower()\n",
    "\n",
    "# Verificando contrasena\n",
    "if contrasena == validarCon:\n",
    "    print(\"La contaseña coincide\")\n",
    "else:\n",
    "    print(\"La contaseña no coincide\")\n"
   ]
  },
  {
   "cell_type": "markdown",
   "metadata": {},
   "source": [
    "### Ejercicio 3:\n",
    "\n",
    "Para tributar un determinado impuesto se debe ser mayor de 16 años y tener unos ingresos iguales o superiores a 2000 Bs mensuales. Escribir un programa que pregunte al usuario su edad y sus ingresos mensuales y muestre por pantalla si el usuario tiene que tributar o no.\n",
    "\n",
    "<b>Salida deseada:</b><br>\n",
    "Tienes que tributar<br>\n",
    "<br>\n",
    "No tienes que tributar"
   ]
  },
  {
   "cell_type": "code",
   "execution_count": 37,
   "metadata": {},
   "outputs": [
    {
     "name": "stdout",
     "output_type": "stream",
     "text": [
      "Ingresa tu edad: 12\n",
      "Ingresa tus ingresos en Bolivianos: 2500\n",
      "No tienes que tributar\n"
     ]
    }
   ],
   "source": [
    "edad = int(input(\"Ingresa tu edad: \"))\n",
    "ingresos = int(input(\"Ingresa tus ingresos en Bolivianos: \"))\n",
    "\n",
    "if edad >=16 and ingresos >= 2000:\n",
    "    print(\"Tienes que tributar\")\n",
    "else:\n",
    "    print(\"No tienes que tributar\")\n"
   ]
  },
  {
   "cell_type": "markdown",
   "metadata": {},
   "source": [
    "### Ejercicio 4:\n",
    "\n",
    "Escriba un programa que pida dos números enteros y que calcule su división, escribiendo si la división es exacta o no. El programa debe tomar en cuenta que no se puede dividir por cero."
   ]
  },
  {
   "cell_type": "code",
   "execution_count": 1,
   "metadata": {},
   "outputs": [
    {
     "name": "stdout",
     "output_type": "stream",
     "text": [
      "Ingrese numero entero A: 4\n",
      "Ingrese numero entero B: 2\n",
      "La division es exacta\n"
     ]
    }
   ],
   "source": [
    "numeroA = int(input(\"Ingrese numero entero A: \"))\n",
    "numeroB = int(input(\"Ingrese numero entero B: \"))\n",
    "\n",
    "if numeroB ==0:\n",
    "    print(\"La division no es posible por 0\")    \n",
    "elif numeroA/numeroB%2 ==0.0:\n",
    "    print(\"La division es exacta\")\n",
    "else:\n",
    "    print(\"La division no es exacta\")"
   ]
  },
  {
   "cell_type": "markdown",
   "metadata": {},
   "source": [
    "### Ejercicio 5:\n",
    "\n",
    "Escriba un programa que pida año, mes y día y retorne cuantos días han pasado o faltan a la fecha actual."
   ]
  },
  {
   "cell_type": "code",
   "execution_count": 16,
   "metadata": {},
   "outputs": [
    {
     "name": "stdout",
     "output_type": "stream",
     "text": [
      "Introduce el año: 1999\n",
      "Introduce el dia: 20\n",
      "Introduce el mes: 11\n",
      "Pasaron 7405 dias \n"
     ]
    }
   ],
   "source": [
    "from datetime import datetime, date, time\n",
    "anio = int(input(\"Introduce el año: \"))\n",
    "dia = int(input(\"Introduce el dia: \"))\n",
    "mes = int(input(\"Introduce el mes: \"))\n",
    "\n",
    "fecha1 = datetime.now()\n",
    "fecha2 = datetime(anio, mes, dia, 0, 0, 0)\n",
    "diferencia = fecha1 - fecha2\n",
    "#print(\"Fecha Actual:\", fecha1)\n",
    "#print(\"Fecha Introducida:\", fecha2)\n",
    "#print(\"Entre las 2 fechas hay \", diferencia.days, \"días \")\n",
    "\n",
    "if diferencia.days >=0:\n",
    "    print(f\"Pasaron {diferencia.days} dias \")\n",
    "else:\n",
    "    print(f\"Faltan {diferencia.days*(-1)} dias \")\n"
   ]
  },
  {
   "cell_type": "markdown",
   "metadata": {},
   "source": [
    "### Ejercicio 6:\n",
    "\n",
    "Escriba un programa que pida dos números enteros y que escriba si el mayor es múltiplo del menor. El programa debe avisar cuando se escriba valores negativos o nulos."
   ]
  },
  {
   "cell_type": "code",
   "execution_count": 18,
   "metadata": {},
   "outputs": [
    {
     "name": "stdout",
     "output_type": "stream",
     "text": [
      "INtroduce el numero A: 2\n",
      "INtroduce el numero B: 11\n",
      "es:  [2, 11]\n",
      "No es multiplo\n"
     ]
    }
   ],
   "source": [
    "numeroA=int(input(\"INtroduce el numero A: \"))\n",
    "numeroB=int(input(\"INtroduce el numero B: \"))\n",
    "\n",
    "lista = [numeroA,numeroB]\n",
    "print(\"es: \", lista)\n",
    "minValue=min(lista)\n",
    "maxValue=max(lista)\n",
    "if numeroA <=0 or numeroB <=0:\n",
    "    print(\"El numero que acabas de ingresar es negativo o nulo, por favor cambialo\")\n",
    "elif maxValue%minValue==0:\n",
    "    print(\"Es multiplo\")\n",
    "else:\n",
    "    print(\"No es multiplo\")"
   ]
  },
  {
   "cell_type": "markdown",
   "metadata": {},
   "source": [
    "### Ejercicio 7:\n",
    "\n",
    "Escriba un programa que pida los coeficientes de una ecuación de segundo grado (a x² + b x + c = 0) y escriba la solución.\n",
    "\n",
    "Se recuerda que una ecuación de segundo grado puede no tener solución (solución con números complejos), tener una solución única, tener dos soluciones o que todos los números sean solución. Se recuerda que la fórmula de las soluciones cuando hay dos soluciones es x = (-b ± √(b2-4ac) ) / (2a)\n",
    "\n",
    "En caso de no tener solución, hacer uso de la números complejos de Python.\n",
    "\n",
    "Más información en:<br>\n",
    "[1] https://relopezbriega.github.io/blog/2015/10/12/numeros-complejos-con-python/<br>\n",
    "[2] https://pybonacci.org/2014/02/04/como-separar-parte-real-e-imaginaria-en-sympy/\n",
    "\n",
    "<b>Salida deseada</b><br>\n",
    "ECUACIÓN A X² + B X + C = 0<br>\n",
    "Escriba el valor del coeficiente a: 2<br>\n",
    "Escriba el valor del coeficiente b: -7<br>\n",
    "Escriba el valor del coeficiente c: 3<br>\n",
    "La ecuación tiene dos soluciones: 3.0 y 0.5"
   ]
  },
  {
   "cell_type": "code",
   "execution_count": 70,
   "metadata": {},
   "outputs": [
    {
     "name": "stdout",
     "output_type": "stream",
     "text": [
      "Introduce el coeficiente para a: 8\n",
      "Introduce el coeficiente para b: 5\n",
      "Introduce el coeficiente para c: 10\n",
      "La ECUACION ES:  8.0 X^2 + 5.0 X + 10.0 =0\n",
      "La ecuacion tiene dos soluciones imaginarias:  -0.31+1.07j  y  -0.31-1.07j\n"
     ]
    }
   ],
   "source": [
    "import math\n",
    "import cmath\n",
    "a = float(input(\"Introduce el coeficiente para a: \"))\n",
    "b = float(input(\"Introduce el coeficiente para b: \"))\n",
    "c = float(input(\"Introduce el coeficiente para c: \"))\n",
    "discriminante = b**2 - (4*a*c)\n",
    "print(\"La ECUACION ES: \", a, \"X^2 +\", b, \"X +\", c, \"=0\")\n",
    "if discriminante == 0:\n",
    "    sol = (-b) /(2*a)\n",
    "    print(\"La ecuacion tiene una unica solucion : \", \"{0:.2f}\".format(sol))\n",
    "elif discriminante >=0:\n",
    "    # 2 soluciones reales distintas\n",
    "    sol = (-b + math.sqrt(discriminante))/(2*a)\n",
    "    sol1 = (-b - math.sqrt(discriminante))/(2*a)\n",
    "    print(\"La ecuacion tiene dos soluciones reales: \", \"{0:.2f}\".format(sol), \" y \", \"{0:.2f}\".format(sol1))\n",
    "else:\n",
    "    # 2 soluciones imaginarias\n",
    "    sol = (-b + cmath.sqrt(discriminante))/(2*a)\n",
    "    sol1 = (-b - cmath.sqrt(discriminante))/(2*a)\n",
    "    print(\"La ecuacion tiene dos soluciones imaginarias: \", \"{0:.2f}\".format(sol), \" y \", \"{0:.2f}\".format(sol1))"
   ]
  },
  {
   "cell_type": "markdown",
   "metadata": {},
   "source": [
    "### Ejercicio 8:\n",
    "\n",
    "Escriba un programa que pregunte primero si se quiere calcular el área de un triángulo o la de un círculo. Si se contesta que se quiere calcular el área de un triángulo (escribiendo T o t), el programa tiene que pedir entonces la base y la altura y escribir el área. Si se contesta que se quiere calcular el área de un círculo (escribiendo C o c), el programa tiene que pedir entonces el radio y escribir el área.\n",
    "\n",
    "Se recuerda que el área de un triángulo es base por altura dividido por 2 y que el área de un círculo es Pi (aproximadamente 3,141592) por el radio al cuadrado. Utilizar 2 decimales para la salida.\n",
    "\n",
    "Nota: Utilice la libreria math para obtener la función pi.\n",
    "\n",
    "<b>Salida deseada:</b><br>\n",
    "CÁLCULO DE ÁREAS<br>\n",
    "Elija una figura geométrica:<br>\n",
    "a) Triángulo<br>\n",
    "b) Círculo<br>\n",
    "¿Qué figura quiere calcular (Escriba T o C)? T<br>\n",
    "Escriba la base: 3<br>\n",
    "Escriba la altura: 5.5<br>\n",
    "Un triángulo de base 3.0 y altura 5.0 tiene un área de 8.25<br>\n",
    "<br>\n",
    "CÁLCULO DE ÁREAS<br>\n",
    "Elija una figura geométrica:<br>\n",
    "a) Triángulo<br>\n",
    "b) Círculo<br>\n",
    "¿Qué figura quiere calcular (Escriba T o C)? C<br>\n",
    "Escriba el radio: 2<br>\n",
    "Un círculo de radio 2.0 tiene un área de 12.57<br>"
   ]
  },
  {
   "cell_type": "code",
   "execution_count": 1,
   "metadata": {},
   "outputs": [
    {
     "name": "stdout",
     "output_type": "stream",
     "text": [
      "Elija una figura geométrica:\n",
      "a) Triángulo\n",
      "b) Círculo\n",
      "¿Qué figura quiere calcular (Escriba T o C)?c\n",
      "Escriba el radio: 2\n",
      "Un circulo de radio: 2.0 tiene un area de:  12.57\n"
     ]
    }
   ],
   "source": [
    "from math import pi\n",
    "print(\"Elija una figura geométrica:\")\n",
    "print(\"a) Triángulo\")\n",
    "print(\"b) Círculo\")\n",
    "calc = input(\"¿Qué figura quiere calcular (Escriba T o C)?\")\n",
    "if calc == \"t\" or calc == \"T\":\n",
    "    base = float(input(\"Escriba la base: \"))\n",
    "    altura = float(input(\"Escriba la altura: \"))\n",
    "    area = (base*altura)/2\n",
    "    print(\"Un triángulo de base:\", base, \"y altura: \", altura, \"tiene un area de: \",area)\n",
    "elif calc == \"c\" or calc == \"C\":\n",
    "    radio = float(input(\"Escriba el radio: \"))\n",
    "    area = \"{0:.2f}\".format(pi*(radio**2))\n",
    "    print(\"Un circulo de radio:\", radio, \"tiene un area de: \",area)"
   ]
  },
  {
   "cell_type": "markdown",
   "metadata": {},
   "source": [
    "# 2.3. La Sentencia for\n",
    "\n",
    "La sentencia <b>for</b> en Python difiere un poco de lo que uno puede estar acostumbrado en lenguajes como C o Pascal. En lugar de siempre iterar sobre una progresión aritmética de números (como en Pascal) o darle al usuario la posibilidad de definir tanto el paso de la iteración como la condición de fin (como en C), la sentencia <b>for</b> de Python itera sobre los ítems de cualquier secuencia (una lista o una cadena de texto), en el orden que aparecen en la secuencia. Por ejemplo:"
   ]
  },
  {
   "cell_type": "code",
   "execution_count": 2,
   "metadata": {},
   "outputs": [
    {
     "name": "stdout",
     "output_type": "stream",
     "text": [
      "gato 4\n",
      "ventana 7\n",
      "defenestrado 12\n",
      "naranja 7\n"
     ]
    }
   ],
   "source": [
    "# Midiendo cadenas de texto\n",
    "palabras = ['gato', 'ventana', 'defenestrado','naranja']\n",
    "for p in palabras:\n",
    "    print(p, len(p))"
   ]
  },
  {
   "cell_type": "markdown",
   "metadata": {},
   "source": [
    "Si necesitá modificar la secuencia sobre la que estás iterando mientras estás adentro del ciclo (por ejemplo para borrar algunos ítems), se recomienda que hagas primero una copia. Iterar sobre una secuencia no hace implícitamente una copia. La notación abajo es especialmente conveniente para esto:"
   ]
  },
  {
   "cell_type": "code",
   "execution_count": 3,
   "metadata": {},
   "outputs": [
    {
     "name": "stdout",
     "output_type": "stream",
     "text": [
      "['naranja', 'defenestrado', 'ventana', 'gato', 'ventana', 'defenestrado', 'naranja']\n"
     ]
    }
   ],
   "source": [
    "for p in palabras[:]:  # hace una copiade toda la lista\n",
    "    if len(p) > 6:\n",
    "        palabras.insert(0, p)\n",
    "\n",
    "print(palabras)"
   ]
  },
  {
   "cell_type": "markdown",
   "metadata": {},
   "source": [
    "Con for w in words:, el ejemplo intentaría crear una lista infinita, insertando defenestrado una y otra vez.<br>\n",
    "\n",
    "Un bucle <b>for</b> funciona como un iterador. Un <b>for</b> se utiliza para realizar acciones sobre elementos de una secuencia o cualquier elemento iterable, como cadenas, listas y otros objetos iterables que veremos más adelante.\n",
    "\n",
    "<b>Formato general para una declaración for</b>\n",
    "\n",
    "for item in object:<br>\n",
    "&nbsp;&nbsp;&nbsp;&nbsp;statements to do stuff\n",
    "\n",
    "También es común usar un rango como iterable en un <b>for</b>\n",
    "\n",
    "for i in range(0,10):<br>\n",
    "&nbsp;&nbsp;&nbsp;&nbsp;hace alguna cosa con i"
   ]
  },
  {
   "cell_type": "markdown",
   "metadata": {},
   "source": [
    "#### Ejemplo. El complemento de una secuencia de ADN se obtiene reemplazando todo As con Ts, Ts con As, Gs con Cs y Cs con Gs por Gs"
   ]
  },
  {
   "cell_type": "code",
   "execution_count": 4,
   "metadata": {},
   "outputs": [
    {
     "data": {
      "text/plain": [
       "'AGCAGGTGCGAGTAGCAGTAGCA'"
      ]
     },
     "execution_count": 4,
     "metadata": {},
     "output_type": "execute_result"
    }
   ],
   "source": [
    "dna = \"AGCAGGTGCGAGTAGCAGTAGCA\"\n",
    "dna"
   ]
  },
  {
   "cell_type": "code",
   "execution_count": 5,
   "metadata": {},
   "outputs": [
    {
     "name": "stdout",
     "output_type": "stream",
     "text": [
      "TCGTCCACGCTCATCGTCATCGT\n"
     ]
    }
   ],
   "source": [
    "#Transformar todas las A's en Ts, Ts en As, Gs en Cs y Cs en Gs\n",
    "complemento=\"\"  #Iniciando string vacia\n",
    "for x in dna:  #A cada iteración en este bucle, x será una letra del dna\n",
    "    if x==\"G\":  #Si x fuera G, concatena la string complemento con un C\n",
    "        complemento = complemento + \"C\"\n",
    "    elif x==\"C\": #Si x fuera C, concatena la string complemento con un T\n",
    "        complemento = complemento + \"G\"\n",
    "    elif x == \"A\":\n",
    "        complemento = complemento + \"T\"\n",
    "    elif x == \"T\":\n",
    "        complemento = complemento + \"A\"\n",
    "        \n",
    "print(complemento)"
   ]
  },
  {
   "cell_type": "markdown",
   "metadata": {},
   "source": [
    "<b>join</b> es un método de la clase string que concatena una cadena con las cadenas de una lista.<br><br>\n",
    "<b>reversed</b> devuelve una lista o cadena invertida.<br><br>\n",
    "Vamos a invertir una string y usar el método de join para formar una nueva cadena con el inverso complementario de la secuencia de DNA."
   ]
  },
  {
   "cell_type": "code",
   "execution_count": 16,
   "metadata": {},
   "outputs": [
    {
     "name": "stdout",
     "output_type": "stream",
     "text": [
      "DNA=AGCAGGTGCGAGTAGCAGTAGCA\n",
      "REVCOMP=TGCTACTGCTACTCGCACCTGCT\n",
      "el rev:  TGCTACTGCTACTCGCACCTGCT\n"
     ]
    }
   ],
   "source": [
    "reverso_complementar = ''.join(reversed(complemento)) #conatena la string vacia '' con el complemento invertido\n",
    "print(f\"DNA={dna}\\nREVCOMP={reverso_complementar}\")\n",
    "\n",
    "#otra forma\n",
    "rev = complemento[::-1]\n",
    "print(\"el rev: \", rev)"
   ]
  },
  {
   "cell_type": "code",
   "execution_count": 12,
   "metadata": {},
   "outputs": [
    {
     "name": "stdout",
     "output_type": "stream",
     "text": [
      "Caracter de índice 0 é um A\n",
      "Caracter de índice 1 é um G\n",
      "Caracter de índice 2 é um C\n",
      "Caracter de índice 3 é um A\n",
      "Caracter de índice 4 é um G\n",
      "Caracter de índice 5 é um G\n",
      "Caracter de índice 6 é um T\n",
      "Caracter de índice 7 é um G\n",
      "Caracter de índice 8 é um C\n",
      "Caracter de índice 9 é um G\n",
      "Caracter de índice 10 é um A\n",
      "Caracter de índice 11 é um G\n",
      "Caracter de índice 12 é um T\n",
      "Caracter de índice 13 é um A\n",
      "Caracter de índice 14 é um G\n",
      "Caracter de índice 15 é um C\n",
      "Caracter de índice 16 é um A\n",
      "Caracter de índice 17 é um G\n",
      "Caracter de índice 18 é um T\n",
      "Caracter de índice 19 é um A\n",
      "Caracter de índice 20 é um G\n",
      "Caracter de índice 21 é um C\n",
      "Caracter de índice 22 é um A\n"
     ]
    }
   ],
   "source": [
    "for i in range(len(dna)):\n",
    "    print(f\"Caracter de índice {i} é um {dna[i]}\")"
   ]
  },
  {
   "cell_type": "code",
   "execution_count": 17,
   "metadata": {},
   "outputs": [
    {
     "name": "stdout",
     "output_type": "stream",
     "text": [
      "Caracter de índice 0 é um A\n",
      "Caracter de índice 1 é um G\n",
      "Caracter de índice 2 é um C\n",
      "Caracter de índice 3 é um A\n",
      "Caracter de índice 4 é um G\n",
      "Caracter de índice 5 é um G\n",
      "Caracter de índice 6 é um T\n",
      "Caracter de índice 7 é um G\n",
      "Caracter de índice 8 é um C\n",
      "Caracter de índice 9 é um G\n",
      "Caracter de índice 10 é um A\n",
      "Caracter de índice 11 é um G\n",
      "Caracter de índice 12 é um T\n",
      "Caracter de índice 13 é um A\n",
      "Caracter de índice 14 é um G\n",
      "Caracter de índice 15 é um C\n",
      "Caracter de índice 16 é um A\n",
      "Caracter de índice 17 é um G\n",
      "Caracter de índice 18 é um T\n",
      "Caracter de índice 19 é um A\n",
      "Caracter de índice 20 é um G\n",
      "Caracter de índice 21 é um C\n",
      "Caracter de índice 22 é um A\n"
     ]
    }
   ],
   "source": [
    "#El ciclo for anterior también se puede hacer usando la función enumerate\n",
    "for i,x in enumerate(dna):\n",
    "    print(f\"Caracter de índice {i} é um {x}\")"
   ]
  },
  {
   "cell_type": "markdown",
   "metadata": {},
   "source": [
    "### Ejercicio 9:\n",
    "\n",
    "Escriba un programa que pida un número de dados y muestre los valores de ese número de dados, al azar.\n",
    "\n",
    "Nota. Utilizar la libreria random.\n",
    "Más información en:\n",
    "[1] https://stackoverflow.com/questions/3996904/generate-random-integers-between-0-and-9\n",
    "\n",
    "<b>Salida deseada:</b><br><br>\n",
    "TIRADA DE DADOS<br>\n",
    "Número de dados: 0<br>\n",
    "¡Imposible!<br>\n",
    "<br>\n",
    "TIRADA DE DADOS<br>\n",
    "Número de dados:  5<br>\n",
    "Dados: 3 5 1 1 3<br>"
   ]
  },
  {
   "cell_type": "code",
   "execution_count": 28,
   "metadata": {},
   "outputs": [
    {
     "name": "stdout",
     "output_type": "stream",
     "text": [
      "TIRADA DE DADOS\n",
      "Numero de dados: 4\n",
      "1 1 3 1 "
     ]
    }
   ],
   "source": [
    "import random\n",
    "print(\"TIRADA DE DADOS\")\n",
    "dado = int(input(\"Numero de dados: \"))\n",
    "\n",
    "if  (dado > 0):\n",
    "    for i in range(0,dado):\n",
    "        print(random.randint(1,6), end=\" \")\n",
    "else:\n",
    "    print(\"Imposible\")\n"
   ]
  },
  {
   "cell_type": "markdown",
   "metadata": {},
   "source": [
    "#### Ejercicio 10:\n",
    "\n",
    "Escriba un programa que pida un número de jugadores y tire un dado para cada jugador. El jugador que tire el mayor dado ganará el juego.\n",
    "\n",
    "<b>Salida deseada:</b><br><br>\n",
    "TIRADAS DE DADO<br>\n",
    "Número de jugadores: 1<br>\n",
    "¡Imposible!<br>\n",
    "<br>\n",
    "TIRADAS DE DADO<br>\n",
    "Número de jugadores: 4<br>\n",
    "Jugador 1: 3<br>\n",
    "Jugador 2: 3<br>\n",
    "Jugador 3: 5<br>\n",
    "Jugador 4: 1<br>\n",
    "El ganador es el Jugador 3.<br>\n",
    "<br>\n",
    "TIRADAS DE DADO<br>\n",
    "Número de jugadores: 3<br>\n",
    "Jugador 1: 4<br>\n",
    "Jugador 2: 4<br>\n",
    "Jugador 3: 1<br>\n",
    "Los ganadores son el Jugador 1, Jugador 2."
   ]
  },
  {
   "cell_type": "code",
   "execution_count": 78,
   "metadata": {},
   "outputs": [
    {
     "name": "stdout",
     "output_type": "stream",
     "text": [
      "TIRADAS DE DADO\n",
      "Numero de jugadores: 10\n",
      "Jugador 1: 3\n",
      "Jugador 2: 1\n",
      "Jugador 3: 2\n",
      "Jugador 4: 2\n",
      "Jugador 5: 6\n",
      "Jugador 6: 1\n",
      "Jugador 7: 5\n",
      "Jugador 8: 3\n",
      "Jugador 9: 6\n",
      "Jugador 10: 5\n",
      "Los ganadores son: Jugador  5 ,Jugador  9 ,"
     ]
    }
   ],
   "source": [
    "import random\n",
    "print(\"TIRADAS DE DADO\")\n",
    "numJugadores = int(input(\"Numero de jugadores: \"))\n",
    "lista = []\n",
    "ganadores = []\n",
    "cont = 0\n",
    "if numJugadores <=1:\n",
    "    print(\"Imposible\")\n",
    "else:\n",
    "    for i in range(1,numJugadores+1):\n",
    "        numRand = random.randint(1,6)\n",
    "        print(f\"Jugador {i}: {numRand}\")\n",
    "        lista.append(numRand)\n",
    "        maxN=max(lista)\n",
    "\n",
    "for j in range(len(lista)):\n",
    "        if maxN == lista[j]:\n",
    "            if maxN in lista:\n",
    "                cont=cont+1\n",
    "\n",
    "for k in range(len(lista)):\n",
    "    if maxN == lista[k]:\n",
    "        if cont>1:\n",
    "            ganadores.append(k+1)\n",
    "        else:\n",
    "            jugadorGAnador = lista.index(max(lista))\n",
    "            print(\"El ganador es el Jugador\",jugadorGAnador+1)\n",
    "            break\n",
    "if cont>1:\n",
    "    print(\"Los ganadores son: \", end=\"\")\n",
    "    for l in range(len(ganadores)):\n",
    "        if cont>1:\n",
    "            print(\"Jugador \", ganadores[l],\",\",end=\"\")"
   ]
  },
  {
   "cell_type": "markdown",
   "metadata": {},
   "source": [
    "#### Ejercicio 11:\n",
    "\n",
    "Escriba un programa que pida un número de dados y tire esa cantidad de dados. El primer jugador obtiene un punto por cada dado par. El segundo jugador obtiene un punto por cada dado impar. El jugador que saque más puntos, gana.\n",
    "\n",
    "<b>Salida deseada:</b><br><br>\n",
    "PARES Y NONES<br>\n",
    "Número de dados: 0<br>\n",
    "¡Imposible!<br>\n",
    "<br>\n",
    "PARES Y NONES<br>\n",
    "Número de dados: 7<br>\n",
    "Dados: 4 5 2 3 2 1 6<br>\n",
    "Ha ganado el jugador de los pares.<br>\n",
    "<br>\n",
    "PARES Y NONES<br>\n",
    "Número de dados: 8<br>\n",
    "Dados: 1 4 1 3 5 6 6 2<br>\n",
    "Han empatado."
   ]
  },
  {
   "cell_type": "code",
   "execution_count": 74,
   "metadata": {},
   "outputs": [
    {
     "name": "stdout",
     "output_type": "stream",
     "text": [
      "PARES Y NONES\n",
      "Numero de dados Jugador 1: 5\n",
      "Dados Jugador 1: \n",
      "5 2 4 4 5 \n",
      "Ha ganado el jugador de los pares\n"
     ]
    }
   ],
   "source": [
    "print(\"PARES Y NONES\")\n",
    "numDados1 = int(input(\"Numero de dados Jugador 1: \"))\n",
    "cont1=0\n",
    "cont2=0\n",
    "if numDados1 == 0 or numDados1 == 0:\n",
    "    print(\"Imposible\")\n",
    "else:\n",
    "    print(\"Dados Jugador 1: \")\n",
    "    for i in range(1,numDados1+1):\n",
    "        numRand=random.randint(1,6)\n",
    "        print(numRand, end=\" \")\n",
    "        if numRand%2 == 0:\n",
    "            cont1=cont1+1\n",
    "        elif numRand%2 != 0:\n",
    "            cont2=cont2+1\n",
    "print(\"\")\n",
    "if cont1 > cont2:\n",
    "    print(\"Ha ganado el jugador de los pares\")\n",
    "elif cont1 < cont2:\n",
    "    print(\"Ha ganado el jugador de los impares\")\n",
    "else :\n",
    "    print(\"Han empatado\")"
   ]
  },
  {
   "cell_type": "markdown",
   "metadata": {},
   "source": [
    "### Ejercicio 12:\n",
    "\n",
    "Escriba un programa que pida un número de dados y tire esa cantidad de dados. Si no salen dos dados iguales seguidos, el jugador gana. Si salen, pierde.\n",
    "\n",
    "<b>Salida deseada:</b><br><br>\n",
    "DADOS IGUALES<br>\n",
    "Número de dados: 1<br>\n",
    "¡Imposible!<br>\n",
    "<br>\n",
    "DADOS IGUALES<br>\n",
    "Número de dados: 6<br>\n",
    "Dados: 3 1 1 4 6 2<br>\n",
    "El jugador ha perdido.<br>\n",
    "<br>\n",
    "DADOS IGUALES<br>\n",
    "Número de dados: 4<br>\n",
    "Dados: 4 2 5 3<br>\n",
    "El jugador ha ganado.<br>"
   ]
  },
  {
   "cell_type": "code",
   "execution_count": 24,
   "metadata": {},
   "outputs": [
    {
     "name": "stdout",
     "output_type": "stream",
     "text": [
      "DADOS IGUALES\n",
      "Numero de dados: 8\n",
      "Dados: \n",
      "3 2 2 2 2 6 6 1 \n",
      "El jugador ha perdido\n"
     ]
    }
   ],
   "source": [
    "import random\n",
    "print(\"DADOS IGUALES\")\n",
    "numDados1 = int(input(\"Numero de dados: \"))\n",
    "todos = []\n",
    "cont1=0\n",
    "if numDados1 == 0 or numDados1 == 1:\n",
    "    print(\"Imposible\")\n",
    "else:\n",
    "    print(\"Dados: \")\n",
    "    for i in range(1,numDados1+1):\n",
    "        numRand=random.randint(1,6)\n",
    "        print(numRand, end=\" \")\n",
    "        todos.append(numRand)\n",
    "for j in range(len(todos)):\n",
    "    if todos[j] == todos[j-1]:\n",
    "        cont1=cont1+1 \n",
    "print(\"\")\n",
    "if cont1 >0:\n",
    "    print(\"El jugador ha perdido\")\n",
    "else:\n",
    "    print(\"El jugador ha ganado\")"
   ]
  },
  {
   "cell_type": "markdown",
   "metadata": {},
   "source": [
    "### Ejercicio 13:\n",
    "\n",
    "Escribir un programa que pregunte al usuario una cantidad a invertir, el interés anual y el número de años, y muestre por pantalla el capital obtenido en la inversión cada año que dura la inversión.\n",
    "\n",
    "<b>Salida deseada:</b><br><br>\n",
    "¿Cantidad a invertir?  1000<br>\n",
    "¿Interés porcentual anual?  10<br>\n",
    "¿Años? 5<br>\n",
    "Capital tras 1 años: 1100.00<br>\n",
    "Capital tras 2 años: 1210.00<br>\n",
    "Capital tras 3 años: 1331.00<br>\n",
    "Capital tras 4 años: 1464.10<br>\n",
    "Capital tras 5 años: 1610.51<br>"
   ]
  },
  {
   "cell_type": "code",
   "execution_count": 25,
   "metadata": {},
   "outputs": [
    {
     "name": "stdout",
     "output_type": "stream",
     "text": [
      "Cantidad a convertir: 200\n",
      "Interes porcentual anual: -3\n",
      "Años: 5\n",
      "Capital tras 1 años:  194.00\n",
      "Capital tras 2 años:  188.18\n",
      "Capital tras 3 años:  182.53\n",
      "Capital tras 4 años:  177.06\n",
      "Capital tras 5 años:  171.75\n"
     ]
    }
   ],
   "source": [
    "\n",
    "cantidad = int(input(\"Cantidad a convertir: \"))\n",
    "interes = int(input(\"Interes porcentual anual: \"))\n",
    "anio = int(input(\"Años: \"))\n",
    "for i in range(1,anio+1):\n",
    "    cantidad = cantidad+cantidad*(interes/100)\n",
    "    print(\"Capital tras\",i, \"años: \", \"{0:.2f}\".format(cantidad))\n",
    "    "
   ]
  },
  {
   "cell_type": "markdown",
   "metadata": {},
   "source": [
    "# Ejercicio 14:\n",
    "\n",
    "Escribir un programa que pida al usuario un número entero y muestre por pantalla un triángulo rectángulo (\"* \") como el de más abajo, de altura el número introducido.\n",
    "\n",
    "<b>Salida deseada:</b><br><br>\n",
    "Introduce la altura del triángulo (entero positivo) 5<br>\n",
    "*<br>\n",
    "\\* *<br>\n",
    "\\* * *<br>\n",
    "\\* * * *<br>\n",
    "\\* * * * * "
   ]
  },
  {
   "cell_type": "code",
   "execution_count": 26,
   "metadata": {},
   "outputs": [
    {
     "name": "stdout",
     "output_type": "stream",
     "text": [
      "Introduce la altura del triángulo (entero positivo): 8\n",
      "*\n",
      "**\n",
      "***\n",
      "****\n",
      "*****\n",
      "******\n",
      "*******\n",
      "********\n"
     ]
    }
   ],
   "source": [
    "triangulo = int(input(\"Introduce la altura del triángulo (entero positivo): \"))\n",
    "asterisco = \"*\"\n",
    "for i in range(1,triangulo+1):\n",
    "    espacios = triangulo+i+1 \n",
    "    asteriscos = i\n",
    "    print(\"\" * espacios + \"*\" * asteriscos)\n",
    "    "
   ]
  },
  {
   "cell_type": "markdown",
   "metadata": {},
   "source": [
    "### Ejercicio 15:\n",
    "\n",
    "Escribir un programa que pida al usuario un número entero y muestre por pantalla un triángulo rectángulo como el de más abajo.\n",
    "\n",
    "<b>Salida deseada:</b><br><br>\n",
    "Introduce la altura del triángulo (entero positivo):  9<br>\n",
    "\n",
    "1 <br>\n",
    "3 1 <br>\n",
    "5 3 1 <br>\n",
    "7 5 3 1 <br>\n",
    "9 7 5 3 1"
   ]
  },
  {
   "cell_type": "code",
   "execution_count": 18,
   "metadata": {},
   "outputs": [
    {
     "name": "stdout",
     "output_type": "stream",
     "text": [
      "Introduce la altura del triángulo (entero positivo): 7\n",
      "1 \n",
      "3 1 \n",
      "5 3 1 \n",
      "7 5 3 1 \n"
     ]
    }
   ],
   "source": [
    "triangulo = int(input(\"Introduce la altura del triángulo (entero positivo): \"))\n",
    "for i in range(1, triangulo+1, 2):\n",
    "    for j in range(i, 0, -2):\n",
    "        print(j, end=\" \")\n",
    "    print(\"\")\n"
   ]
  },
  {
   "cell_type": "markdown",
   "metadata": {},
   "source": [
    "### Ejercicio 16:\n",
    "\n",
    "Escriba un programa que pida un número entero mayor que cero y que escriba sus divisores.\n",
    "\n",
    "<b>Salida deseada:</b><br><br>\n",
    "DIVISORES<br>\n",
    "Escriba un número mayor que cero: -5<br>\n",
    "¡Le he pedido un número entero mayor que cero!<br>\n",
    "<br>\n",
    "DIVISORES<br>\n",
    "Escriba un número entero mayor que cero: 200<br>\n",
    "Los divisores de 200 son 1 2 4 5 8 10 20 25 40 50 100 200"
   ]
  },
  {
   "cell_type": "code",
   "execution_count": 20,
   "metadata": {},
   "outputs": [
    {
     "name": "stdout",
     "output_type": "stream",
     "text": [
      "DIVISORES\n",
      "Escriba un número mayor que cero: 200\n",
      "los divisores son: 1 2 4 5 8 10 20 25 40 50 100 200 "
     ]
    }
   ],
   "source": [
    "print(\"DIVISORES\")\n",
    "numero = int(input(\"Escriba un número mayor que cero: \"))\n",
    "divisores = []\n",
    "if numero <=0:\n",
    "    print(\"¡Le he pedido un número entero mayor que cero!\")\n",
    "else:\n",
    "    for i in range(1,numero+1):\n",
    "        if numero%i ==0:\n",
    "            divisores.append(i)\n",
    "\n",
    "    print(\"los divisores son: \", end=\"\")\n",
    "    for j in range(len(divisores)):\n",
    "        print( divisores[j], end=\" \")\n",
    "            "
   ]
  },
  {
   "cell_type": "markdown",
   "metadata": {},
   "source": [
    "### Ejercicio 17:\n",
    "\n",
    "Escribir un programa que pida al usuario un número entero y muestre por pantalla un triángulo rectángulo como el de número de primos.\n",
    "\n",
    "<b>Salida deseada:</b><br><br>\n",
    "Introduce la altura del triángulo (entero positivo):  20<br>\n",
    "\n",
    "1 <br>\n",
    "3 1 <br>\n",
    "5 3 1 <br>\n",
    "7 5 3 1 <br>\n",
    "11 7 5 3 1 <br>\n",
    "13 11 7 5 3 1 <br>\n",
    "17 13 11 7 5 3 1 <br>\n",
    "19 17 13 11 7 5 3 1"
   ]
  },
  {
   "cell_type": "code",
   "execution_count": 22,
   "metadata": {},
   "outputs": [
    {
     "name": "stdout",
     "output_type": "stream",
     "text": [
      "Introduce la altura del triángulo (entero positivo): 25\n",
      " \n",
      "2 \n",
      "3 2 \n",
      "5 3 2 \n",
      "7 5 3 2 \n",
      "11 7 5 3 2 \n",
      "13 11 7 5 3 2 \n",
      "17 13 11 7 5 3 2 \n",
      "19 17 13 11 7 5 3 2 \n",
      "23 19 17 13 11 7 5 3 2"
     ]
    }
   ],
   "source": [
    "altura=int(input(\"Introduce la altura del triángulo (entero positivo): \"))\n",
    "noprimos=list(range(1,altura+1))\n",
    "primos1=[2,3,5,7,11]\n",
    "primos2=[2,3,5,7]\n",
    "primos3=[2,3,5]\n",
    "for x in range(2,len(noprimos)):\n",
    "    if(not noprimos[x]%2==0 and not noprimos[x]%3==0 and not noprimos[x]%5==0 and not noprimos[x]%7==0 and not noprimos[x]%11==0):\n",
    "        primos1.append(noprimos[x])\n",
    "if altura == primos3[-1]:\n",
    "    for i in (range(0,len(primos3))):\n",
    "        for l in range(i,-1,-1):\n",
    "            if primos3[l] == 2:\n",
    "                print(2,end=\"\")\n",
    "            else:    \n",
    "                print(primos3[l],end=\" \")\n",
    "        print(\" \")\n",
    "elif altura < primos1[-1]:\n",
    "    for i in (range(0,len(primos2))):\n",
    "        print(\" \")\n",
    "        for l in range(i,-1,-1):\n",
    "            if primos2[l] == 2:\n",
    "                print(2,end=\"\")\n",
    "            else:    \n",
    "                print(primos2[l],end=\" \")\n",
    "else:\n",
    "    for i in (range(0,len(primos1))):\n",
    "        print(\" \")\n",
    "        for l in range(i,-1,-1):\n",
    "            if primos1[l] == 2:\n",
    "                print(2,end=\"\")\n",
    "            else:    \n",
    "                print(primos1[l],end=\" \")\n",
    "\n"
   ]
  },
  {
   "cell_type": "markdown",
   "metadata": {},
   "source": [
    "### Ejercicio 18:\n",
    "\n",
    "Escriba un programa que pida dos números enteros y escriba la suma de todos los enteros desde el primer número hasta el segundo.\n",
    "\n",
    "<b>Salida deseada:</b><br><br>\n",
    "SUMA ENTRE VALORES<br>\n",
    "Escriba un número entero positivo: -5<br>\n",
    "¡Le he pedido un número entero positivo!<br>\n",
    "<br>\n",
    "SUMA ENTRE VALORES<br>\n",
    "Escriba un número entero positivo: 7<br>\n",
    "Escriba un número entero mayor que 7: 7<br>\n",
    "¡Le he pedido un número entero mayor que 7!<br>\n",
    "<br>\n",
    "SUMA ENTRE VALORES<br>\n",
    "Escriba un número entero positivo: 30<br>\n",
    "Escriba un número entero mayor que 30: 32<br>\n",
    "30 + 31 + 32 = 93<br>"
   ]
  },
  {
   "cell_type": "code",
   "execution_count": 24,
   "metadata": {},
   "outputs": [
    {
     "name": "stdout",
     "output_type": "stream",
     "text": [
      "SUMA ENTRE VALORES\n",
      "Escriba un número entero positivo: -1\n",
      "¡Le he pedido un número entero positivo!\n"
     ]
    }
   ],
   "source": [
    "print(\"SUMA ENTRE VALORES\")\n",
    "numeroA = int(input(\"Escriba un número entero positivo: \"))\n",
    "sumas=[]\n",
    "if numeroA <=0:\n",
    "    print(\"¡Le he pedido un número entero positivo!\")\n",
    "else:\n",
    "    numeroB = int(input(f\"Escriba un número entero mayor que {numeroA}: \"))\n",
    "    if numeroB <= numeroA:\n",
    "        print(f\"¡Le he pedido un número entero mayor que {numeroA} !\")\n",
    "    else:\n",
    "        for i in range(numeroA, numeroB+1):\n",
    "            sumas.append(i)\n",
    "\n",
    "contador=len(sumas)\n",
    "total=0\n",
    "for j in sumas:\n",
    "    print(j, end=\"\")\n",
    "    if contador==1:\n",
    "        total=total+j\n",
    "        print(\" = \",total,end=\"\")\n",
    "    else:\n",
    "        contador=contador-1\n",
    "        total=total+j\n",
    "        print(\" + \",end=\"\")\n"
   ]
  },
  {
   "cell_type": "markdown",
   "metadata": {},
   "source": [
    "### Ejercicio 19:\n",
    "\n",
    "Escriba un programa que pida un número entero mayor que cero y calcule su factorial.\n",
    "\n",
    "<b>Salida deseada:</b><br><br>\n",
    "FACTORIAL<br>\n",
    "Escriba un número entero mayor que cero: -5<br>\n",
    "¡Le he pedido un número entero mayor que cero!<br>\n",
    "<br>\n",
    "FACTORIAL<br>\n",
    "Escriba un número entero mayor que cero: 5<br>\n",
    "El factorial de 5 es 120<br>"
   ]
  },
  {
   "cell_type": "code",
   "execution_count": 26,
   "metadata": {},
   "outputs": [
    {
     "name": "stdout",
     "output_type": "stream",
     "text": [
      "FACTORIAL\n",
      "Escriba un número entero mayor que cero: 1\n",
      "El factorial de 1 es 1\n"
     ]
    }
   ],
   "source": [
    "print(\"FACTORIAL\")\n",
    "numero = int(input(\"Escriba un número entero mayor que cero: \"))        \n",
    "prod=1\n",
    "if numero <= 0:\n",
    "    print(\"¡Le he pedido un número entero mayor que cero!\")\n",
    "else:\n",
    "    for i in range(1,numero+1):\n",
    "        prod=prod*i\n",
    "    print(\"El factorial de\",numero,\"es\",prod)"
   ]
  },
  {
   "cell_type": "markdown",
   "metadata": {},
   "source": [
    "### Ejercicio 20:\n",
    "\n",
    "Escribir un programa que pida al usuario un número entero (del 1 al 10) y genere la matriz caracol.\n",
    "\n",
    "<b>Salida deseada:</b><br><br>\n",
    "\n",
    "Introduce un número (entero positivo):  3<br>\n",
    "\n",
    "1 2 3<br>\n",
    "8 9 4<br>\n",
    "7 6 5<br>"
   ]
  },
  {
   "cell_type": "code",
   "execution_count": 27,
   "metadata": {},
   "outputs": [
    {
     "name": "stdout",
     "output_type": "stream",
     "text": [
      "Introduce un número (entero positivo del 1 al 10): 5\n",
      "1 2 3 4 5  \n",
      "16 17 18 19 6  \n",
      "15 24 25 20 7  \n",
      "14 23 22 21 8  \n",
      "13 12 11 10 9  \n"
     ]
    }
   ],
   "source": [
    "import numpy as np\n",
    "import math\n",
    "numero = int(input('Introduce un número (entero positivo del 1 al 10): '))\n",
    "altura = np.zeros((numero, numero))\n",
    "contador=1\n",
    "movimiento = math.ceil(numero/2) #redondeo del movimiento\n",
    "if numero>10 or numero<1:\n",
    "    print('Solo se permite del 1 al 10')\n",
    "else:\n",
    "    for i in range(movimiento):\n",
    "        for j in range(i,numero -i):\n",
    "            altura[i][j] = contador\n",
    "            contador=contador+1\n",
    "        for j in range(1+i,numero-i):\n",
    "            altura[j][numero-i-1] = contador\n",
    "            contador=contador+1\n",
    "        for j in range(i,numero-i-1):\n",
    "            altura[numero-1-i][numero-2-j] = contador\n",
    "            contador=contador+1\n",
    "        for j in range(i+1,numero-i-1):\n",
    "            altura[numero-1-j][i] = contador\n",
    "            contador=contador+1\n",
    "    for i in range(numero):\n",
    "        for j in range(numero):\n",
    "            print(int(altura[i][j]) , end=\" \")\n",
    "        print(\" \")\n",
    "        "
   ]
  },
  {
   "cell_type": "markdown",
   "metadata": {},
   "source": [
    "##### 2.4. La Sentencia while"
   ]
  },
  {
   "cell_type": "markdown",
   "metadata": {},
   "source": [
    "Una instrucción while prueba una condición inicial y comienza a ejecutar los comandos del bloque si la condición es verdadera. Mientras la condición permanezca verdadera, los comandos de bucle se ejecutan repetidamente.\n",
    "\n",
    "Sintaxis:\n",
    "\n",
    "mientras condición:\n",
    "\n",
    "     comandos\n",
    "\n",
    "#### Ejemplo de declaración while"
   ]
  },
  {
   "cell_type": "code",
   "execution_count": 15,
   "metadata": {},
   "outputs": [
    {
     "name": "stdout",
     "output_type": "stream",
     "text": [
      "1\n",
      "2\n",
      "3\n",
      "4\n",
      "5\n",
      "6\n",
      "7\n",
      "8\n",
      "9\n",
      "10\n"
     ]
    }
   ],
   "source": [
    "i=0\n",
    "while i < 10:\n",
    "    i+=1\n",
    "    print(i)"
   ]
  },
  {
   "cell_type": "code",
   "execution_count": 21,
   "metadata": {},
   "outputs": [],
   "source": [
    "# Iniciando con una lista vacia\n",
    "nombres = []\n",
    "\n",
    "# Defina una string llamada nuevo_nombre con cualquier valor diferente de \"salir\"\n",
    "nuevo_nombre = ''"
   ]
  },
  {
   "cell_type": "markdown",
   "metadata": {},
   "source": [
    "El ciclo while se ejecutará mientras el usuario ingrese nombres distintos a \"salir\", almacenando cada nombre ingresado en una lista."
   ]
  },
  {
   "cell_type": "code",
   "execution_count": 22,
   "metadata": {},
   "outputs": [
    {
     "name": "stdout",
     "output_type": "stream",
     "text": [
      "Ingrese un nombre o la palabra salir: mariana\n",
      "Ingrese un nombre o la palabra salir: andres\n",
      "Ingrese un nombre o la palabra salir: sara\n",
      "Ingrese un nombre o la palabra salir: emmi\n",
      "Ingrese un nombre o la palabra salir: salir\n",
      "['mariana', 'andres', 'sara', 'emmi']\n"
     ]
    }
   ],
   "source": [
    "while nuevo_nombre != 'salir':\n",
    "    # Pida que el usuario ingrese un nombre\n",
    "    nuevo_nombre = input(\"Ingrese un nombre o la palabra salir: \")\n",
    "    # Adiciona el nombre al final de la lista de nombres\n",
    "    nombres.append(nuevo_nombre)\n",
    "\n",
    "#Extraiga la palabra salir de la lista de names (\"salir\")\n",
    "ultima = nombres.pop()\n",
    "# Imprime la lista de nombres\n",
    "print(nombres)"
   ]
  },
  {
   "cell_type": "markdown",
   "metadata": {},
   "source": [
    "El control de bucles break, continue y pass permite:"
   ]
  },
  {
   "cell_type": "code",
   "execution_count": 23,
   "metadata": {},
   "outputs": [
    {
     "name": "stdout",
     "output_type": "stream",
     "text": [
      "Input > mariana\n",
      "mariana\n",
      "Input > andres\n",
      "andres\n",
      "Input > done\n",
      "Done!\n"
     ]
    }
   ],
   "source": [
    "while True:\n",
    "    line = input('Input > ')\n",
    "    if line == 'done':\n",
    "        break\n",
    "    print(line)\n",
    "print('Done!')"
   ]
  },
  {
   "cell_type": "code",
   "execution_count": null,
   "metadata": {},
   "outputs": [],
   "source": [
    "while True:\n",
    "    line = input('Input > ')\n",
    "    if line[0] == '#':\n",
    "        continue\n",
    "    if line == 'done':\n",
    "        break\n",
    "    print(line)\n",
    "print('Done!')"
   ]
  },
  {
   "cell_type": "markdown",
   "metadata": {},
   "source": [
    "Más información:<br>\n",
    "[1] https://www.pythonmania.net/es/2013/04/05/control-de-bucles-break-continue-y-pass/"
   ]
  },
  {
   "cell_type": "markdown",
   "metadata": {},
   "source": [
    "### Ejercicio 21:\n",
    "\n",
    "Escriba un programa que pida dos números enteros. El programa pedirá de nuevo el segundo número mientras no sea mayor que el primero. El programa terminará escribiendo los dos números.\n",
    "\n",
    "<b>Salida deseada:</b><br><br>\n",
    "NÚMERO MAYOR<br>\n",
    "Escriba un número: 6<br>\n",
    "Escriba un número mayor que 6: 6<br>\n",
    "6 no es mayor que 6. Inténtelo de nuevo: 1<br>\n",
    "1 no es mayor que 6. Inténtelo de nuevo: 8<br>\n",
    "<br>\n",
    "Los números que ha escrito son 6 y 8."
   ]
  },
  {
   "cell_type": "code",
   "execution_count": 26,
   "metadata": {},
   "outputs": [
    {
     "name": "stdout",
     "output_type": "stream",
     "text": [
      "NUMERO MAYOR\n",
      "Escriba un numero: 6\n",
      "Escriba un numero mayor que 6: 6\n",
      "6 no es mayor que 6.Intentelo de nuevo: 8\n",
      "Los numeros que ha escrito son: 6 y 8\n"
     ]
    }
   ],
   "source": [
    "print(\"NUMERO MAYOR\")\n",
    "numeroA = int(input(\"Escriba un numero: \"))\n",
    "numeroB = int(input(f\"Escriba un numero mayor que {numeroA}: \"))\n",
    "while not numeroA < numeroB:\n",
    "    print(f\"{numeroB} no es mayor que {numeroA}\", end=\".\")\n",
    "    numeroB = int(input(\"Intentelo de nuevo: \"))\n",
    "print(f\"Los numeros que ha escrito son: {numeroA} y {numeroB}\")\n"
   ]
  },
  {
   "cell_type": "markdown",
   "metadata": {},
   "source": [
    "### Ejercicio 22:\n",
    "\n",
    "Escriba un programa que pida números decimales mientras el usuario escriba número mayores que el anterior.\n",
    "\n",
    "\n",
    "<b>Salida deseada:</b><br><br>\n",
    "NÚMEROS MAYORES<br>\n",
    "Escriba un número: 7<br>\n",
    "Escriba un número mayor que 7.0: 1<br>\n",
    "1.0 no es mayor que 7.0.<br>\n",
    "<br>\n",
    "NÚMEROS MAYORES<br>\n",
    "Escriba un número: 9.3<br>\n",
    "Escriba un número mayor que 9.3: 9.3<br>\n",
    "9.3 no es mayor que 9.3.<br>\n",
    "<br>\n",
    "NÚMEROS MAYORES<br>\n",
    "Escriba un número: 4.5<br>\n",
    "Escriba un número mayor que 4.5: 5<br>\n",
    "Escriba otro número mayor que 5.0: 7.3<br>\n",
    "Escriba otro número mayor que 5.0: 2<br>\n",
    "2.0 no es mayor que 4.5."
   ]
  },
  {
   "cell_type": "code",
   "execution_count": 31,
   "metadata": {},
   "outputs": [
    {
     "name": "stdout",
     "output_type": "stream",
     "text": [
      "NUMEROS MAYORES\n",
      "Escriba un número: 4.5\n",
      "Escriba un numero mayor que 4.5: 5\n",
      "Escribe otro numero mayor que 5.0: 7.3\n",
      "Escribe otro numero mayor que 7.3: 2\n",
      "2.0 no es mayor que 4.5\n"
     ]
    }
   ],
   "source": [
    "print(\"NUMEROS MAYORES\")\n",
    "numeroA = float(input(\"Escriba un número: \"))\n",
    "numeroB = float(input(f\"Escriba un numero mayor que {numeroA}: \"))\n",
    "\n",
    "if numeroB <= numeroA:\n",
    "    print(f\"{numeroB} no es mayor que {numeroA}\")\n",
    "else:\n",
    "    while numeroB > numeroA:\n",
    "        print(f\"Escribe otro numero mayor que {numeroB}\", end=\"\")\n",
    "        numeroB = float(input(\": \"))\n",
    "    print(f\"{numeroB} no es mayor que {numeroA}\")"
   ]
  },
  {
   "cell_type": "markdown",
   "metadata": {},
   "source": [
    "### Ejercicio 23:\n",
    "\n",
    "Escriba un programa que pida un valor límite positivo y a continuación pida números hasta que la suma de los números introducidos supere el límite inicial.\n",
    "\n",
    "\n",
    "<b>Salida deseada:</b><br><br>\n",
    "HASTA EL LÍMITE<br>\n",
    "Escriba el valor límite: -3<br>\n",
    "El límite debe ser mayor que 0. Inténtelo de nuevo: 0<br>\n",
    "El límite debe ser mayor que 0. Inténtelo de nuevo: 5.5<br>\n",
    "Escriba un número: 7.2<br>\n",
    "Ha superado el límite. La suma de los números introducidos es 7.2.<br>\n",
    "<br>\n",
    "HASTA EL LÍMITE<br>\n",
    "Escriba el valor límite: 12<br>\n",
    "Escriba un número: 5.2<br>\n",
    "Escriba otro número: -1<br>\n",
    "Escriba otro número: 9<br>\n",
    "Ha superado el límite. La suma de los números introducidos es 13.2."
   ]
  },
  {
   "cell_type": "code",
   "execution_count": 6,
   "metadata": {
    "scrolled": true
   },
   "outputs": [
    {
     "name": "stdout",
     "output_type": "stream",
     "text": [
      "HASTA EL LIMITE\n",
      "Escriba el valor limite: -3\n",
      "El limite debe ser mayor que 0. Intentelo de nuevo: 0\n",
      "El limite debe ser mayor que 0. Intentelo de nuevo: -1\n",
      "El limite debe ser mayor que 0. Intentelo de nuevo: 5.5\n",
      "Escriba un numero: 7.2\n",
      "Ha superado el limite. La suma de los números introducidos es 7.2\n"
     ]
    }
   ],
   "source": [
    "print(\"HASTA EL LIMITE\")\n",
    "limite = float(input(\"Escriba el valor limite: \"))\n",
    "cont = 0\n",
    "while limite <= 0:\n",
    "    print(\"El limite debe ser mayor que 0.\", end=\" \")\n",
    "    limite =float(input(\"Intentelo de nuevo: \"))\n",
    "while cont < limite:\n",
    "    cont += float(input(\"Escriba un numero: \"))\n",
    "\n",
    "print(f\"Ha superado el limite. La suma de los números introducidos es {cont}\")\n"
   ]
  },
  {
   "cell_type": "markdown",
   "metadata": {},
   "source": [
    "### Ejercicio 24:\n",
    "\n",
    "Escriba un programa que calcule la descomposición en factores primos de un número.\n",
    "\n",
    "<b>Salida deseada:</b><br><br>\n",
    "DESCOMPOSICIÓN EN FACTORES PRIMOS<br>\n",
    "Escriba un número entero mayor que 1: 500<br>\n",
    "Descomposición en factores primos: 2 2 5 5 5<br>\n",
    "<br>\n",
    "DESCOMPOSICIÓN EN NÚMEROS PRIMOS<br>\n",
    "Escriba un número entero mayor que 1: 521<br>\n",
    "Descomposición en factores primos: 521<br>\n",
    "<br>\n",
    "DESCOMPOSICIÓN EN NÚMEROS PRIMOS<br>\n",
    "Escriba un número entero mayor que 1: 1<br>\n",
    "1 no es mayor que 1. Inténtelo de nuevo: 720<br>\n",
    "Descomposición en factores primos: 2 2 2 2 3 3 5"
   ]
  },
  {
   "cell_type": "code",
   "execution_count": 26,
   "metadata": {},
   "outputs": [
    {
     "name": "stdout",
     "output_type": "stream",
     "text": [
      "DESCOMPOSICIÓN EN FACTORES PRIMOS\n",
      "Escriba un número entero mayor que 1: 720\n",
      "Descomposición en factores primos: 2 2 2 2 3 3 5 "
     ]
    }
   ],
   "source": [
    "print(\"DESCOMPOSICIÓN EN FACTORES PRIMOS\")\n",
    "numero = int(input(\"Escriba un número entero mayor que 1: \"))\n",
    "cont = 1\n",
    "lista = []\n",
    "while numero <= 1:\n",
    "    print(f\"{numero} no es mayor que 1.\")\n",
    "    numero =int(input(\"Intentelo de nuevo: \"))\n",
    "print(\"Descomposición en factores primos:\", end=\" \")\n",
    "for i in range(2, numero+1):\n",
    "        while numero%i == 0:\n",
    "            numero = numero // i\n",
    "            print(i, end=\" \")\n"
   ]
  },
  {
   "cell_type": "markdown",
   "metadata": {},
   "source": [
    "### Ejercicio 25:\n",
    "\n",
    "Escriba un programa que muestre números al azar del 1 al 6 mientras lo pida el usuario. El programa debe mostrar la suma de los números anteriores.\n",
    "\n",
    "<b>Salida deseada:</b><br>\n",
    "\n",
    "Juego del Azar<br>\n",
    "Pulse Intro para lanzar el dado. Pulse otra tecla e Intro para terminar:<br>\n",
    "Tirada: 2 - Suma: 2<br>\n",
    "<br>\n",
    "Pulse Intro para lanzar el dado. Pulse otra tecla e Intro para terminar:<br>\n",
    "Tirada: 5 - Suma: 7<br>\n",
    "<br>\n",
    "Pulse Intro para lanzar el dado. Pulse otra tecla e Intro para terminar:<br>\n",
    "Tirada: 4 - Suma: 11<br>\n",
    "<br>\n",
    "Pulse Intro para lanzar el dado. Pulse otra tecla e Intro para terminar: x<br>\n",
    "Programa terminado."
   ]
  },
  {
   "cell_type": "code",
   "execution_count": 4,
   "metadata": {},
   "outputs": [
    {
     "name": "stdout",
     "output_type": "stream",
     "text": [
      "JUEGO DEL AZAR\n",
      "Pulse intro: para lanzar el dado.\n",
      "Pulse otra tecla e Intro para terminar: \n",
      "Tirada: 6 - Suma: 6\n",
      "Pulse otra tecla e Intro para terminar: \n",
      "Tirada: 3 - Suma: 9\n",
      "Pulse otra tecla e Intro para terminar: \n",
      "Tirada: 2 - Suma: 11\n",
      "Pulse otra tecla e Intro para terminar: d\n",
      "Programa terminado\n"
     ]
    }
   ],
   "source": [
    "import random\n",
    "print(\"JUEGO DEL AZAR\")\n",
    "dado = input(\"Pulse intro: para lanzar el dado.\")\n",
    "cont = 0\n",
    "while dado == \"\":\n",
    "    dado = input(\"Pulse otra tecla e Intro para terminar: \")\n",
    "    numRand = random.randint(1,6)\n",
    "    cont = cont + numRand\n",
    "    if dado != \"\":\n",
    "        print(\"\", end=\"\")\n",
    "        break\n",
    "    else:\n",
    "        print(\"Tirada:\",numRand, \"- Suma:\",cont)\n",
    "print(\"Programa terminado\")\n"
   ]
  },
  {
   "cell_type": "markdown",
   "metadata": {},
   "source": [
    "### Ejercicio 26:\n",
    "\n",
    "Escriba un programa que pida un número del 1 al 6, un número de jugadores y tire un dado para cada jugador. El 1er jugador obtenga el mismo número será el ganador.\n",
    "\n",
    "<b>Salida deseada:</b><br>\n",
    "\n",
    "JUEGO DE LOS DADOS<br>\n",
    "Número a acertar: 5<br>\n",
    "Número de jugadores: 1<br>\n",
    "¡Imposible!<br>\n",
    "<br>\n",
    "JUEGO DE LOS DADOS<br>\n",
    "Número a acertar: 5<br>\n",
    "Número de jugadores: 4<br>\n",
    "Jugador 1: 3<br>\n",
    "Jugador 2: 3<br>\n",
    "Jugador 3: 5<br>\n",
    "El ganador es el Jugador 3.<br>\n",
    "<br>\n",
    "JUEGO DE LOS DADOS<br>\n",
    "Número a acertar: 5<br>\n",
    "Número de jugadores: 3<br>\n",
    "Jugador 1: 4<br>\n",
    "Jugador 2: 4<br>\n",
    "Jugador 3: 1<br>\n",
    "No existe ganadores."
   ]
  },
  {
   "cell_type": "code",
   "execution_count": 34,
   "metadata": {},
   "outputs": [
    {
     "name": "stdout",
     "output_type": "stream",
     "text": [
      "JUEGO DE LOS DADOS\n",
      "Número a acertar: 2\n",
      "Número de jugadores: 4\n",
      "Jugador 1: 4\n",
      "Jugador 2: 1\n",
      "Jugador 3: 1\n",
      "Jugador 4: 5\n",
      "No existe ganadores\n"
     ]
    }
   ],
   "source": [
    "import random\n",
    "print(\"JUEGO DE LOS DADOS\")\n",
    "numAcertar = int(input(\"Número a acertar: \"))\n",
    "contador = 0\n",
    "cont2 = 0\n",
    "todos = []\n",
    "ganador = []\n",
    "if numAcertar >6 or numAcertar < 1:\n",
    "    print(\"El programa pide un número del 1 al 6\")\n",
    "else:\n",
    "    numJugadores = int(input(\"Número de jugadores: \"))\n",
    "    if numJugadores <= 1:\n",
    "        print(\"¡Imposible!\")\n",
    "    else:\n",
    "        while contador < numJugadores:\n",
    "            contador = contador + 1\n",
    "            numRand = random.randint(1,6)\n",
    "            todos.append(numRand)\n",
    "            print (f\"Jugador {contador}: {numRand}\")\n",
    "        for i in range(len(todos)):\n",
    "            cont2 = cont2 + 1\n",
    "            if todos[i] == numAcertar:\n",
    "                #print(\"El ganador es el Jugador \",todos[i])\n",
    "                ganador.append(cont2)\n",
    "        if len(ganador) == 1:\n",
    "            print(\"El ganador es el Jugador:\", ganador[-1])\n",
    "        elif len(ganador) > 1:\n",
    "            print(\"El ganador es el Jugador:\", ganador[0])\n",
    "        else:\n",
    "            print(\"No existe ganadores\")\n",
    "            \n",
    "        "
   ]
  },
  {
   "cell_type": "markdown",
   "metadata": {},
   "source": [
    "### Ejercicio 27:\n",
    "\n",
    "Escribir un programa que genere <b>una cadena de 4 caracteres aleatorios</b> que usen minúsculas y números en una variable, pregunte al usuario si desea averiguar la cadena o utilizar fuerza bruta para conseguir la contraseña correcta. En caso de usar la opción de fuerza bruta, declarar la cantidad de iteraciones utilizadas para encontrar la contraseña por fuerza bruta.\n",
    "\n",
    "<b>Salida deseada:</b><br>\n",
    "\n",
    "QUEBRAR UNA CONTRASEÑA<br>\n",
    "\n",
    "El programa generó una contraseña.<br>\n",
    "\n",
    "¿Desea adivinar la contraseña (opción a) o desea utilizar fuerza bruta (opción fb)?: a<br>\n",
    "Introduce la contraseña:  1234<br>\n",
    "¡Incorrecto!\n",
    "\n",
    "¿Desea adivinar la contraseña (opción a) o desea utilizar fuerza bruta (opción fb)?: a<br>\n",
    "Introduce la contraseña:  pass<br>\n",
    "¡Contraseña correcta!<br>\n",
    "<br>\n",
    "<br>\n",
    "QUEBRAR UNA CONTRASEÑA<br>\n",
    "\n",
    "El programa generó una contraseña.<br>\n",
    "\n",
    "¿Desea adivinar la contraseña (opción a) o desea utilizar fuerza bruta (opción fb)?: a<br>\n",
    "Introduce la contraseña:  cont<br>\n",
    "¡Incorrecto!\n",
    "\n",
    "¿Desea adivinar la contraseña (opción a) o desea utilizar fuerza bruta (opción fb)?: fb<br>\n",
    "Se realizó 3465 iteraciones para encontrar la contraseña correcta: abc5<br>\n"
   ]
  },
  {
   "cell_type": "code",
   "execution_count": 40,
   "metadata": {},
   "outputs": [
    {
     "name": "stdout",
     "output_type": "stream",
     "text": [
      "QUEBRAR UNA CONTRASEÑA\n",
      "El programa generó una contraseña.\n",
      "¿Desea adivinar la contraseña (opción a) o desea utilizar fuerza bruta (opción fb)?: fb\n",
      "Se realizó 631618 iteraciones para encontrar la contraseña correcta: xvix que machea con xvix\n"
     ]
    }
   ],
   "source": [
    "import string\n",
    "import random\n",
    "#print(map(chr, range(97, 123)))\n",
    "print(\"QUEBRAR UNA CONTRASEÑA\")\n",
    "cadena = string.ascii_lowercase+string.digits\n",
    "contrasena = \"\"\n",
    "for i in range(4):\n",
    "    contrasena = contrasena+random.choice(cadena)\n",
    "cont = 1\n",
    "\n",
    "print(\"El programa generó una contraseña.\")\n",
    "respuesta = input(\"¿Desea adivinar la contraseña (opción a) o desea utilizar fuerza bruta (opción fb)?: \")\n",
    "if respuesta == \"a\":\n",
    "    contrasenaIntr = input(\"Introduce la contraseña: \")\n",
    "    while contrasenaIntr != contrasena:\n",
    "        print(\"¡Contraseña correcta!\")\n",
    "        contrasenaIntr = input(\"Introduce la contraseña: \")\n",
    "    print(\"¡Contraseña correcta!\")\n",
    "elif respuesta == \"fb\":\n",
    "    contrasenaIntr = \"\"\n",
    "    \n",
    "    while contrasena != contrasenaIntr:\n",
    "        contrasenaIntr = \"\"\n",
    "        for i in range(4):\n",
    "            contrasenaIntr = contrasenaIntr+random.choice(cadena)\n",
    "        cont = cont+1\n",
    "    print(f\"Se realizó {cont} iteraciones para encontrar la contraseña correcta: {contrasenaIntr} que machea con {contrasena}\")\n",
    "else:\n",
    "    print('Debes escoger entre la opcion \"a\" o la opcion \"fb\"')\n",
    "      \n"
   ]
  },
  {
   "cell_type": "markdown",
   "metadata": {},
   "source": [
    "### Ejercicio 28:\n",
    "\n",
    "Escriba un programa para jugar a adivinar un número (el ordenador \"piensa\" el número y el usuario tiene que adivinarlo). El programa empieza pidiendo entre qué números está el número a adivinar, se \"inventa\" un número al azar y después el usuario va probando valores y el programa va diciendo si son demasiado grandes o pequeños.\n",
    "\n",
    "<b>Salida deseada:</b><br>\n",
    "\n",
    "Valor mínimo: 0<br>\n",
    "Valor máximo: 100<br>\n",
    "Intente adivinar un número entero entre 0 y 100.<br>\n",
    "Escriba un número: 20<br>\n",
    "¡Demasiado pequeño! Inténtelo de nuevo: 30<br>\n",
    "¡Demasiado grande! Inténtelo de nuevo: 27<br>\n",
    "¡Acertó! Le ha costado 3 intentos.\n",
    "\n",
    "<b>Sugerencia:</b> puede perfeccionar este programa haciendo:\n",
    "\n",
    "* que al principio el programa se asegure de que el valor máximo es superior al valor mínimo.\n",
    "* que el programa detecte \"trampas\", por ejemplo, si al decir 25 le decimos \"mayor\" y al decir 26 le decimos \"menor\", el programa debe decirnos que estamos haciendo trampas y dejar de jugar."
   ]
  },
  {
   "cell_type": "code",
   "execution_count": 22,
   "metadata": {},
   "outputs": [
    {
     "name": "stdout",
     "output_type": "stream",
     "text": [
      "Introduzca valor minimo: 0\n",
      "Introduzca valor maximo: 100\n",
      "Intente adivinar un número entero entre 0 y 100.\n",
      "Escriba un número:50\n",
      "¡Demasiado grande! Inténtelo de nuevo: 25\n",
      "¡Demasiado grande! Inténtelo de nuevo: 20\n",
      "¡Demasiado grande! Inténtelo de nuevo: 15\n",
      "¡Demasiado grande! Inténtelo de nuevo: 10\n",
      "¡Demasiado grande! Inténtelo de nuevo: 5\n",
      "¡Demasiado pequeño! Inténtelo de nuevo: 6\n",
      "¡Acertó! Le ha costado 7 intentos.\n"
     ]
    }
   ],
   "source": [
    "import random\n",
    "valMin = int(input(\"Introduzca valor minimo: \"))\n",
    "valMax = int(input(\"Introduzca valor maximo: \"))\n",
    "cont = 0\n",
    "if valMax <= valMin:\n",
    "    print(f\"El primer valor introducido tiene que ser menor al segundo! {valMax} no es mayor a {valMin}\")\n",
    "elif valMax - valMin == 1:\n",
    "    print(\"Usted esta haciendo trampa\")\n",
    "else:\n",
    "    correcto = random.randint(valMin, valMax)\n",
    "    print(f\"Intente adivinar un número entero entre {valMin} y {valMax}.\")\n",
    "    numero = int(input(\"Escriba un número:\"))\n",
    "    media1 = (valMax - valMin)/2\n",
    "    media2 = media1 + valMin\n",
    "    while numero < valMax and numero > valMin:\n",
    "        if numero > correcto:\n",
    "            numero = int(input(\"¡Demasiado grande! Inténtelo de nuevo: \"))\n",
    "            print(\"\", end=\"\")\n",
    "            cont = cont+1\n",
    "        elif numero < correcto:\n",
    "            numero = int(input(\"¡Demasiado pequeño! Inténtelo de nuevo: \"))\n",
    "            cont = cont+1\n",
    "        elif numero == correcto:\n",
    "            cont = cont+1\n",
    "            break\n",
    "    print(f\"¡Acertó! Le ha costado {cont} intentos.\")\n",
    "    "
   ]
  },
  {
   "cell_type": "markdown",
   "metadata": {},
   "source": [
    "### Ejercicio 29:\n",
    "\n",
    "Escribir un programa que pida al usuario un número entero y muestre por pantalla un triángulo rectángulo de Fibonacci.\n",
    "\n",
    "<b>Salida deseada:</b><br><br>\n",
    "Introduce la altura del triángulo (entero positivo):  7<br>\n",
    "\n",
    "1 <br>\n",
    "1 1<br>\n",
    "1 1 2<br>\n",
    "1 1 2 3<br>\n",
    "1 1 2 3 5<br>\n",
    "1 1 2 3 5 8<br>\n",
    "1 1 2 3 5 8 13<br>"
   ]
  },
  {
   "cell_type": "code",
   "execution_count": 43,
   "metadata": {},
   "outputs": [
    {
     "name": "stdout",
     "output_type": "stream",
     "text": [
      "Introduce la altura del triángulo (entero positivo): 7\n",
      "1\n",
      "1 1\n",
      "1 1 2\n",
      "1 1 2 3\n",
      "1 1 2 3 5\n",
      "1 1 2 3 5 8\n",
      "1 1 2 3 5 8 13\n"
     ]
    }
   ],
   "source": [
    "altura = int(input(\"Introduce la altura del triángulo (entero positivo): \"))\n",
    "n1 = 0\n",
    "n2 = 1\n",
    "comienzo = 1\n",
    "cont = 1\n",
    "print(comienzo)\n",
    "while cont < altura:\n",
    "    fibo = n1\n",
    "    n1 = n2\n",
    "    n2 = fibo + n2\n",
    "    comienzo = str(comienzo) + \" \" + str(n2)\n",
    "    cont = cont+1\n",
    "    print(comienzo)\n"
   ]
  },
  {
   "cell_type": "markdown",
   "metadata": {},
   "source": [
    "### Ejercicio 30:\n",
    "\n",
    "Implemente un programa que sea capaz de calcular el resultado de aplicarla formula siguiente (n i)=n!/(i!\\*(n-i)!). Para ello usted debe leer un numero por teclado que debe ser mayor e igual que cero teniendo en cuenta además que n tiene que ser necesariamente mayor que i y además calcular el factorial de un número."
   ]
  },
  {
   "cell_type": "code",
   "execution_count": 25,
   "metadata": {},
   "outputs": [
    {
     "name": "stdout",
     "output_type": "stream",
     "text": [
      "Introduzca valor para el numero n: 1\n",
      "Introduzca valor para el numero i: 1\n",
      "El resultado de la formula es: 1.0\n"
     ]
    }
   ],
   "source": [
    "n=int(input(\"Introduzca valor para el numero n: \"))\n",
    "i=int(input(\"Introduzca valor para el numero i: \"))\n",
    "prod = prod2 = prod3 = 1\n",
    "j = jj= 1\n",
    "while not n >= 0:\n",
    "    n=int(input(\"Introduzca valor para el numero n: \"))\n",
    "while i > n :\n",
    "    i=int(input(f\"Este: valor tiene que ser menor a {n}. Intento de nuevo: \"))\n",
    "    print(\"\", end = \"\")\n",
    "if i <= n:\n",
    "    while j<=n:\n",
    "        prod=prod*j\n",
    "        j = j+1\n",
    "    while jj<=i:\n",
    "        prod2=prod2*jj\n",
    "        jj = jj+1\n",
    "    for k in range(1,(n-i)+1):\n",
    "        prod3=prod3*k\n",
    "    formula = prod/(prod2*prod3)\n",
    "    print(f\"El resultado de la formula es: {formula}\")  \n"
   ]
  },
  {
   "cell_type": "code",
   "execution_count": null,
   "metadata": {},
   "outputs": [],
   "source": []
  }
 ],
 "metadata": {
  "kernelspec": {
   "display_name": "Python 3",
   "language": "python",
   "name": "python3"
  },
  "language_info": {
   "codemirror_mode": {
    "name": "ipython",
    "version": 3
   },
   "file_extension": ".py",
   "mimetype": "text/x-python",
   "name": "python",
   "nbconvert_exporter": "python",
   "pygments_lexer": "ipython3",
   "version": "3.6.9"
  }
 },
 "nbformat": 4,
 "nbformat_minor": 2
}
